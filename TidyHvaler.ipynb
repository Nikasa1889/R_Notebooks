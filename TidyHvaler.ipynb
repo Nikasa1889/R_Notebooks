{
 "cells": [
  {
   "cell_type": "markdown",
   "metadata": {},
   "source": [
    "#### Tidy Hvaler dataset"
   ]
  },
  {
   "cell_type": "code",
   "execution_count": 1,
   "metadata": {
    "collapsed": false
   },
   "outputs": [
    {
     "name": "stderr",
     "output_type": "stream",
     "text": [
      "\n",
      "Attaching package: ‘dplyr’\n",
      "\n",
      "The following objects are masked from ‘package:stats’:\n",
      "\n",
      "    filter, lag\n",
      "\n",
      "The following objects are masked from ‘package:base’:\n",
      "\n",
      "    intersect, setdiff, setequal, union\n",
      "\n",
      "\n",
      "Attaching package: ‘lubridate’\n",
      "\n",
      "The following object is masked from ‘package:base’:\n",
      "\n",
      "    date\n",
      "\n"
     ]
    }
   ],
   "source": [
    "library(tidyr)\n",
    "library(dplyr)\n",
    "library(lubridate)\n",
    "\n",
    "top20File = \"Hvaler/top_20.csv\"\n",
    "tempFile = \"Hvaler/temperature_2010_2014.csv\"\n",
    "\n",
    "#Define a class num.with.commas to probably transform string with comma to number\n",
    "\n",
    "top20Classes = c('POSIXct', \"numeric\", \"character\")\n",
    "\n",
    "df = read.csv(top20File, stringsAsFactors=FALSE, colClasses=top20Classes)\n",
    "names(df) = c(\"DateTime\", \"Consumption\", \"NETTSTNR\")"
   ]
  },
  {
   "cell_type": "code",
   "execution_count": 6,
   "metadata": {
    "collapsed": false
   },
   "outputs": [],
   "source": [
    "#Spread dataset and change name to make substation name arbitrary\n",
    "tidyDf = df %>% spread(NETTSTNR, Consumption, fill = NA, convert = FALSE)\n",
    "names(tidyDf) = c(\"DateTime\", paste0(\"subs.\", seq(1, ncol(tidyDf)-1)))\n",
    "head(tidyDf)"
   ]
  },
  {
   "cell_type": "markdown",
   "metadata": {},
   "source": [
    "#### Read temperature and join to make complete dataset"
   ]
  },
  {
   "cell_type": "code",
   "execution_count": 21,
   "metadata": {
    "collapsed": false
   },
   "outputs": [],
   "source": [
    "tempClasses = c('POSIXct', rep(\"numeric\", 3))\n",
    "tempDf = read.csv(tempFile, stringsAsFactors=FALSE, colClasses=tempClasses)\n",
    "names(tempDf) = c(\"DateTime\", \"T01\", \"Min\", \"Max\")\n",
    "tempDf = tempDf %>% select(DateTime, T01) %>% mutate(T01 = T01 * 9/5 + 32)\n",
    "completeDf = left_join(tidyDf, tempDf, by=\"DateTime\")"
   ]
  },
  {
   "cell_type": "code",
   "execution_count": 25,
   "metadata": {
    "collapsed": false
   },
   "outputs": [],
   "source": [
    "write.csv(completeDf, \"Hvaler/complete.csv\", row.names=FALSE)"
   ]
  },
  {
   "cell_type": "code",
   "execution_count": 24,
   "metadata": {
    "collapsed": false
   },
   "outputs": [
    {
     "data": {
      "text/html": [
       "<table>\n",
       "<thead><tr><th></th><th scope=col>DateTime</th><th scope=col>subs.1</th><th scope=col>subs.2</th><th scope=col>subs.3</th><th scope=col>subs.4</th><th scope=col>subs.5</th><th scope=col>subs.6</th><th scope=col>subs.7</th><th scope=col>subs.8</th><th scope=col>subs.9</th><th scope=col>⋯</th><th scope=col>subs.12</th><th scope=col>subs.13</th><th scope=col>subs.14</th><th scope=col>subs.15</th><th scope=col>subs.16</th><th scope=col>subs.17</th><th scope=col>subs.18</th><th scope=col>subs.19</th><th scope=col>subs.20</th><th scope=col>T01</th></tr></thead>\n",
       "<tbody>\n",
       "\t<tr><th scope=row>1</th><td>2011-11-01 00:00:00</td><td>0                  </td><td>0                  </td><td>0                  </td><td>24.029999980703    </td><td>12.4500000644475   </td><td>29.980000289157    </td><td>37.6900001205504   </td><td>23.7299999035895   </td><td>54.509999750182    </td><td>⋯                  </td><td>50.4600000139326   </td><td>59.3200003504753   </td><td>35.5999997276813   </td><td>10.5900000501424   </td><td>13.4999999701977   </td><td>12.4100001342595   </td><td>76.4500007890165   </td><td>0                  </td><td>43.2999998703599   </td><td>51.98              </td></tr>\n",
       "\t<tr><th scope=row>2</th><td>2011-11-01 01:00:00</td><td>0                  </td><td>0                  </td><td>0                  </td><td>22.2100001350045   </td><td>14.0400001630187   </td><td>31.8599998466671   </td><td>34.4000001754612   </td><td>24.2699999921024   </td><td>51.1100000068545   </td><td>⋯                  </td><td>53.6099999584258   </td><td>54.9099999070168   </td><td>38.2599998805672   </td><td>9.55999996885657   </td><td>14.7299999184906   </td><td>12.5500000510365   </td><td>70.2399999853224   </td><td>0                  </td><td>40.7680000793189   </td><td>52.34              </td></tr>\n",
       "\t<tr><th scope=row>3</th><td>2011-11-01 02:00:00</td><td>0                  </td><td>0                  </td><td>0                  </td><td>25.4700001049787   </td><td>14.1900000721216   </td><td>31.0899999141693   </td><td>28.4999999906868   </td><td>22.4200000148267   </td><td>56.3999998532236   </td><td>⋯                  </td><td>51.5899997409433   </td><td>57.8099996764213   </td><td>36.6499996501952   </td><td>10.2800000440329   </td><td>15.7299999594688   </td><td>10.8299998957664   </td><td>76.6600002218038   </td><td>0                  </td><td>40.2399997860193   </td><td>52.16              </td></tr>\n",
       "\t<tr><th scope=row>4</th><td>2011-11-01 03:00:00</td><td>0                  </td><td>0                  </td><td>0                  </td><td>24.6799999475479   </td><td>14.6399999819696   </td><td>28.7399999182671   </td><td>28.6200002226979   </td><td>22.9099999964237   </td><td>59.7299999501556   </td><td>⋯                  </td><td>43.0900002699345   </td><td>58.5500002130866   </td><td>37.8399998731911   </td><td>9.59999995678663   </td><td>12.9500001128763   </td><td>11.0200000666082   </td><td>72.6299997810274   </td><td>0                  </td><td>41.9019999355078   </td><td>52.52              </td></tr>\n",
       "\t<tr><th scope=row>5</th><td>2011-11-01 04:00:00</td><td>0                  </td><td>0                  </td><td>0                  </td><td>23.1800000891089   </td><td>14.4899999443442   </td><td>24.9099999088794   </td><td>30.2500001024455   </td><td>22.7099999580532   </td><td>59.7899995949119   </td><td>⋯                  </td><td>45.8200001809746   </td><td>55.3599996324629   </td><td>38.9499997217208   </td><td>10.6999999303371   </td><td>15.319999890402    </td><td>11.9300000630319   </td><td>74.9999997541308   </td><td>0                  </td><td>41.5699999462813   </td><td>52.34              </td></tr>\n",
       "\t<tr><th scope=row>6</th><td>2011-11-01 05:00:00</td><td>0                  </td><td>0                  </td><td>0                  </td><td>22.120000006631    </td><td>14.0800000838935   </td><td>28.0900001078844   </td><td>29.1500002034009   </td><td>23.4199998304248   </td><td>58.9100003521889   </td><td>⋯                  </td><td>48.9300003126264   </td><td>59.529999833554    </td><td>35.3300001267344   </td><td>9.5399999525398    </td><td>14.7599999923259   </td><td>12.4899998772889   </td><td>74.3399994745851   </td><td>0                  </td><td>47.0379999354482   </td><td>52.52              </td></tr>\n",
       "</tbody>\n",
       "</table>\n"
      ],
      "text/latex": [
       "\\begin{tabular}{r|llllllllllllllllllllll}\n",
       "  & DateTime & subs.1 & subs.2 & subs.3 & subs.4 & subs.5 & subs.6 & subs.7 & subs.8 & subs.9 & ⋯ & subs.12 & subs.13 & subs.14 & subs.15 & subs.16 & subs.17 & subs.18 & subs.19 & subs.20 & T01\\\\\n",
       "\\hline\n",
       "\t1 & 2011-11-01 00:00:00 & 0                   & 0                   & 0                   & 24.029999980703     & 12.4500000644475    & 29.980000289157     & 37.6900001205504    & 23.7299999035895    & 54.509999750182     & ⋯                   & 50.4600000139326    & 59.3200003504753    & 35.5999997276813    & 10.5900000501424    & 13.4999999701977    & 12.4100001342595    & 76.4500007890165    & 0                   & 43.2999998703599    & 51.98              \\\\\n",
       "\t2 & 2011-11-01 01:00:00 & 0                   & 0                   & 0                   & 22.2100001350045    & 14.0400001630187    & 31.8599998466671    & 34.4000001754612    & 24.2699999921024    & 51.1100000068545    & ⋯                   & 53.6099999584258    & 54.9099999070168    & 38.2599998805672    & 9.55999996885657    & 14.7299999184906    & 12.5500000510365    & 70.2399999853224    & 0                   & 40.7680000793189    & 52.34              \\\\\n",
       "\t3 & 2011-11-01 02:00:00 & 0                   & 0                   & 0                   & 25.4700001049787    & 14.1900000721216    & 31.0899999141693    & 28.4999999906868    & 22.4200000148267    & 56.3999998532236    & ⋯                   & 51.5899997409433    & 57.8099996764213    & 36.6499996501952    & 10.2800000440329    & 15.7299999594688    & 10.8299998957664    & 76.6600002218038    & 0                   & 40.2399997860193    & 52.16              \\\\\n",
       "\t4 & 2011-11-01 03:00:00 & 0                   & 0                   & 0                   & 24.6799999475479    & 14.6399999819696    & 28.7399999182671    & 28.6200002226979    & 22.9099999964237    & 59.7299999501556    & ⋯                   & 43.0900002699345    & 58.5500002130866    & 37.8399998731911    & 9.59999995678663    & 12.9500001128763    & 11.0200000666082    & 72.6299997810274    & 0                   & 41.9019999355078    & 52.52              \\\\\n",
       "\t5 & 2011-11-01 04:00:00 & 0                   & 0                   & 0                   & 23.1800000891089    & 14.4899999443442    & 24.9099999088794    & 30.2500001024455    & 22.7099999580532    & 59.7899995949119    & ⋯                   & 45.8200001809746    & 55.3599996324629    & 38.9499997217208    & 10.6999999303371    & 15.319999890402     & 11.9300000630319    & 74.9999997541308    & 0                   & 41.5699999462813    & 52.34              \\\\\n",
       "\t6 & 2011-11-01 05:00:00 & 0                   & 0                   & 0                   & 22.120000006631     & 14.0800000838935    & 28.0900001078844    & 29.1500002034009    & 23.4199998304248    & 58.9100003521889    & ⋯                   & 48.9300003126264    & 59.529999833554     & 35.3300001267344    & 9.5399999525398     & 14.7599999923259    & 12.4899998772889    & 74.3399994745851    & 0                   & 47.0379999354482    & 52.52              \\\\\n",
       "\\end{tabular}\n"
      ],
      "text/plain": [
       "             DateTime subs.1 subs.2 subs.3 subs.4 subs.5 subs.6 subs.7 subs.8\n",
       "1 2011-11-01 00:00:00      0      0      0  24.03  12.45  29.98  37.69  23.73\n",
       "2 2011-11-01 01:00:00      0      0      0  22.21  14.04  31.86  34.40  24.27\n",
       "3 2011-11-01 02:00:00      0      0      0  25.47  14.19  31.09  28.50  22.42\n",
       "4 2011-11-01 03:00:00      0      0      0  24.68  14.64  28.74  28.62  22.91\n",
       "5 2011-11-01 04:00:00      0      0      0  23.18  14.49  24.91  30.25  22.71\n",
       "6 2011-11-01 05:00:00      0      0      0  22.12  14.08  28.09  29.15  23.42\n",
       "  subs.9 ⋯ subs.12 subs.13 subs.14 subs.15 subs.16 subs.17 subs.18 subs.19\n",
       "1  54.51 ⋯   50.46   59.32   35.60   10.59   13.50   12.41   76.45       0\n",
       "2  51.11 ⋯   53.61   54.91   38.26    9.56   14.73   12.55   70.24       0\n",
       "3  56.40 ⋯   51.59   57.81   36.65   10.28   15.73   10.83   76.66       0\n",
       "4  59.73 ⋯   43.09   58.55   37.84    9.60   12.95   11.02   72.63       0\n",
       "5  59.79 ⋯   45.82   55.36   38.95   10.70   15.32   11.93   75.00       0\n",
       "6  58.91 ⋯   48.93   59.53   35.33    9.54   14.76   12.49   74.34       0\n",
       "  subs.20   T01\n",
       "1  43.300 51.98\n",
       "2  40.768 52.34\n",
       "3  40.240 52.16\n",
       "4  41.902 52.52\n",
       "5  41.570 52.34\n",
       "6  47.038 52.52"
      ]
     },
     "metadata": {},
     "output_type": "display_data"
    }
   ],
   "source": [
    "head(completeDf)"
   ]
  },
  {
   "cell_type": "code",
   "execution_count": null,
   "metadata": {
    "collapsed": true
   },
   "outputs": [],
   "source": []
  }
 ],
 "metadata": {
  "kernelspec": {
   "display_name": "R",
   "language": "R",
   "name": "ir"
  },
  "language_info": {
   "codemirror_mode": "r",
   "file_extension": ".r",
   "mimetype": "text/x-r-source",
   "name": "R",
   "pygments_lexer": "r",
   "version": "3.3.1"
  }
 },
 "nbformat": 4,
 "nbformat_minor": 1
}
