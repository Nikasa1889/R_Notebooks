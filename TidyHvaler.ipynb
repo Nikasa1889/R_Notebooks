{
 "cells": [
  {
   "cell_type": "markdown",
   "metadata": {},
   "source": [
    "#### Tidy Hvaler dataset"
   ]
  },
  {
   "cell_type": "code",
   "execution_count": 33,
   "metadata": {
    "collapsed": false
   },
   "outputs": [],
   "source": [
    "library(tidyr)\n",
    "library(dplyr)\n",
    "library(lubridate)\n",
    "library(xts)\n",
    "top20File = \"Hvaler/top_20.csv\"\n",
    "tempFile = \"Hvaler/temperature_2010_2014.csv\"\n",
    "\n",
    "#Define a class num.with.commas to probably transform string with comma to number\n",
    "\n",
    "top20Classes = c('POSIXct', \"numeric\", \"character\")\n",
    "\n",
    "df = read.csv(top20File, stringsAsFactors=FALSE, colClasses=top20Classes)\n",
    "names(df) = c(\"DateTime\", \"Consumption\", \"NETTSTNR\")"
   ]
  },
  {
   "cell_type": "code",
   "execution_count": 34,
   "metadata": {
    "collapsed": false
   },
   "outputs": [],
   "source": [
    "#Spread dataset and change name to make substation name arbitrary\n",
    "tidyDf = df %>% spread(NETTSTNR, Consumption, fill = NA, convert = FALSE)\n",
    "names(tidyDf) = c(\"DateTime\", paste0(\"subs.\", seq(1, ncol(tidyDf)-1)))\n",
    "#Make sure all the DateTime in 2012 and 2013 are included\n",
    "xt = xts(x = tidyDf[, -1], order.by = tidyDf[, 1])\n",
    "xt = xt['2012/2013']\n",
    "xt <- merge(xt,xts(,seq(start(xt),end(xt),by=\"hour\")), all=TRUE)\n",
    "tidyDf = data.frame(DateTime=index(xt), coredata(xt))\n",
    "#head(tidyDf)"
   ]
  },
  {
   "cell_type": "markdown",
   "metadata": {},
   "source": [
    "#### Read temperature and join to make complete dataset"
   ]
  },
  {
   "cell_type": "code",
   "execution_count": 35,
   "metadata": {
    "collapsed": false
   },
   "outputs": [],
   "source": [
    "tempClasses = c('POSIXct', rep(\"numeric\", 3))\n",
    "tempDf = read.csv(tempFile, stringsAsFactors=FALSE, colClasses=tempClasses)\n",
    "names(tempDf) = c(\"DateTime\", \"T01\", \"Min\", \"Max\")\n",
    "tempDf = tempDf %>% select(DateTime, T01) %>% mutate(T01 = T01 * 9/5 + 32)\n",
    "completeDf = left_join(tidyDf, tempDf, by=\"DateTime\")"
   ]
  },
  {
   "cell_type": "code",
   "execution_count": 36,
   "metadata": {
    "collapsed": false
   },
   "outputs": [],
   "source": [
    "completeDf[completeDf == 0] = NA\n",
    "write.csv(completeDf, \"Hvaler/complete.csv\", row.names=FALSE)"
   ]
  },
  {
   "cell_type": "code",
   "execution_count": null,
   "metadata": {
    "collapsed": true
   },
   "outputs": [],
   "source": []
  }
 ],
 "metadata": {
  "kernelspec": {
   "display_name": "R",
   "language": "R",
   "name": "ir"
  },
  "language_info": {
   "codemirror_mode": "r",
   "file_extension": ".r",
   "mimetype": "text/x-r-source",
   "name": "R",
   "pygments_lexer": "r",
   "version": "3.3.1"
  }
 },
 "nbformat": 4,
 "nbformat_minor": 1
}
