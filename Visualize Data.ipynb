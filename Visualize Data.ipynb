{
 "cells": [
  {
   "cell_type": "markdown",
   "metadata": {
    "collapsed": true
   },
   "source": [
    "### Visualize Data from GEFCom2012 and Hvaler"
   ]
  },
  {
   "cell_type": "code",
   "execution_count": 33,
   "metadata": {
    "collapsed": false
   },
   "outputs": [],
   "source": [
    "library(tidyr)\n",
    "library(dplyr)\n",
    "library(lubridate)\n",
    "completeGEFCom2012File = \"GEFCom2012/complete.csv\"\n",
    "completeHvalerFile = \"Hvaler/complete.csv\"\n",
    "completeGEFCom2012Classes = c('POSIXct', rep(\"numeric\", 32))\n",
    "completeHvalerClasses = c('POSIXct', rep(\"numeric\", 21))\n",
    "\n",
    "GEFCom2012Df = read.csv(completeGEFCom2012File, stringsAsFactors=FALSE, colClasses=completeGEFCom2012Classes)\n",
    "HvalerDf = read.csv(completeHvalerFile, stringsAsFactors=FALSE, colClasses=completeHvalerClasses)"
   ]
  },
  {
   "cell_type": "code",
   "execution_count": 12,
   "metadata": {
    "collapsed": false,
    "scrolled": true
   },
   "outputs": [
    {
     "name": "stdout",
     "output_type": "stream",
     "text": [
      "\n",
      " Module   :  strip \n",
      " Author   :  Tim Appelhans <tim.appelhans@gmail.com>, Thomas Nauss \n",
      " Version  :  2012-01-06 \n",
      " License  :  GNU GPLv3, see http://www.gnu.org/licenses/ \n",
      "\n",
      " Module   :  strip \n",
      " Author   :  Tim Appelhans <tim.appelhans@gmail.com>, Thomas Nauss \n",
      " Version  :  2012-01-06 \n",
      " License  :  GNU GPLv3, see http://www.gnu.org/licenses/ \n",
      "\n",
      " Module   :  strip \n",
      " Author   :  Tim Appelhans <tim.appelhans@gmail.com>, Thomas Nauss \n",
      " Version  :  2012-01-06 \n",
      " License  :  GNU GPLv3, see http://www.gnu.org/licenses/ \n",
      "\n",
      " Module   :  strip \n",
      " Author   :  Tim Appelhans <tim.appelhans@gmail.com>, Thomas Nauss \n",
      " Version  :  2012-01-06 \n",
      " License  :  GNU GPLv3, see http://www.gnu.org/licenses/ \n",
      "\n",
      " Module   :  strip \n",
      " Author   :  Tim Appelhans <tim.appelhans@gmail.com>, Thomas Nauss \n",
      " Version  :  2012-01-06 \n",
      " License  :  GNU GPLv3, see http://www.gnu.org/licenses/ \n",
      "\n",
      " Module   :  strip \n",
      " Author   :  Tim Appelhans <tim.appelhans@gmail.com>, Thomas Nauss \n",
      " Version  :  2012-01-06 \n",
      " License  :  GNU GPLv3, see http://www.gnu.org/licenses/ \n",
      "\n",
      " Module   :  strip \n",
      " Author   :  Tim Appelhans <tim.appelhans@gmail.com>, Thomas Nauss \n",
      " Version  :  2012-01-06 \n",
      " License  :  GNU GPLv3, see http://www.gnu.org/licenses/ \n",
      "\n",
      " Module   :  strip \n",
      " Author   :  Tim Appelhans <tim.appelhans@gmail.com>, Thomas Nauss \n",
      " Version  :  2012-01-06 \n",
      " License  :  GNU GPLv3, see http://www.gnu.org/licenses/ \n",
      "\n",
      " Module   :  strip \n",
      " Author   :  Tim Appelhans <tim.appelhans@gmail.com>, Thomas Nauss \n",
      " Version  :  2012-01-06 \n",
      " License  :  GNU GPLv3, see http://www.gnu.org/licenses/ \n",
      "\n",
      " Module   :  strip \n",
      " Author   :  Tim Appelhans <tim.appelhans@gmail.com>, Thomas Nauss \n",
      " Version  :  2012-01-06 \n",
      " License  :  GNU GPLv3, see http://www.gnu.org/licenses/ \n",
      "\n",
      " Module   :  strip \n",
      " Author   :  Tim Appelhans <tim.appelhans@gmail.com>, Thomas Nauss \n",
      " Version  :  2012-01-06 \n",
      " License  :  GNU GPLv3, see http://www.gnu.org/licenses/ \n",
      "\n",
      " Module   :  strip \n",
      " Author   :  Tim Appelhans <tim.appelhans@gmail.com>, Thomas Nauss \n",
      " Version  :  2012-01-06 \n",
      " License  :  GNU GPLv3, see http://www.gnu.org/licenses/ \n",
      "\n",
      " Module   :  strip \n",
      " Author   :  Tim Appelhans <tim.appelhans@gmail.com>, Thomas Nauss \n",
      " Version  :  2012-01-06 \n",
      " License  :  GNU GPLv3, see http://www.gnu.org/licenses/ \n",
      "\n",
      " Module   :  strip \n",
      " Author   :  Tim Appelhans <tim.appelhans@gmail.com>, Thomas Nauss \n",
      " Version  :  2012-01-06 \n",
      " License  :  GNU GPLv3, see http://www.gnu.org/licenses/ \n",
      "\n",
      " Module   :  strip \n",
      " Author   :  Tim Appelhans <tim.appelhans@gmail.com>, Thomas Nauss \n",
      " Version  :  2012-01-06 \n",
      " License  :  GNU GPLv3, see http://www.gnu.org/licenses/ \n",
      "\n",
      " Module   :  strip \n",
      " Author   :  Tim Appelhans <tim.appelhans@gmail.com>, Thomas Nauss \n",
      " Version  :  2012-01-06 \n",
      " License  :  GNU GPLv3, see http://www.gnu.org/licenses/ \n",
      "\n",
      " Module   :  strip \n",
      " Author   :  Tim Appelhans <tim.appelhans@gmail.com>, Thomas Nauss \n",
      " Version  :  2012-01-06 \n",
      " License  :  GNU GPLv3, see http://www.gnu.org/licenses/ \n",
      "\n",
      " Module   :  strip \n",
      " Author   :  Tim Appelhans <tim.appelhans@gmail.com>, Thomas Nauss \n",
      " Version  :  2012-01-06 \n",
      " License  :  GNU GPLv3, see http://www.gnu.org/licenses/ \n",
      "\n",
      " Module   :  strip \n",
      " Author   :  Tim Appelhans <tim.appelhans@gmail.com>, Thomas Nauss \n",
      " Version  :  2012-01-06 \n",
      " License  :  GNU GPLv3, see http://www.gnu.org/licenses/ \n",
      "\n",
      " Module   :  strip \n",
      " Author   :  Tim Appelhans <tim.appelhans@gmail.com>, Thomas Nauss \n",
      " Version  :  2012-01-06 \n",
      " License  :  GNU GPLv3, see http://www.gnu.org/licenses/ \n"
     ]
    }
   ],
   "source": [
    "#Compress GEFCom2012Df to use strip function to plot all timeseries once.\n",
    "#CAREFUL, VERY SLOW, Must convert output pdf file to png to be viewable (pdf file too big)\n",
    "source(\"http://www.staff.uni-marburg.de/~appelhat/r_stuff/strip.R\")\n",
    "#compressGEFCom2012Df = GEFCom2012Df %>% gather(zone, consumption, starts_with(\"zone.\")) %>% \n",
    "#                            mutate(year_zone = paste(zone, year(GEFCom2012Df$DateTime)))\n",
    "for (i in seq(1, 20)){\n",
    "    zone = paste0('zone.', as.character(i));\n",
    "    pdf(paste0(zone, \"_GEFCom2012_strip.pdf\"),width=7,height=5)\n",
    "    strip(x = GEFCom2012Df[[zone]], \n",
    "      date = GEFCom2012Df$DateTime,\n",
    "      cond = year(GEFCom2012Df$DateTime),\n",
    "      arrange = \"wide\",\n",
    "      main = paste(\"Consumption\", zone))\n",
    "    dev.off()\n",
    "}\n"
   ]
  },
  {
   "cell_type": "code",
   "execution_count": 34,
   "metadata": {
    "collapsed": false,
    "scrolled": true
   },
   "outputs": [
    {
     "name": "stdout",
     "output_type": "stream",
     "text": [
      "\n",
      " Module   :  strip \n",
      " Author   :  Tim Appelhans <tim.appelhans@gmail.com>, Thomas Nauss \n",
      " Version  :  2012-01-06 \n",
      " License  :  GNU GPLv3, see http://www.gnu.org/licenses/ \n",
      "\n",
      " Module   :  strip \n",
      " Author   :  Tim Appelhans <tim.appelhans@gmail.com>, Thomas Nauss \n",
      " Version  :  2012-01-06 \n",
      " License  :  GNU GPLv3, see http://www.gnu.org/licenses/ \n",
      "\n",
      " Module   :  strip \n",
      " Author   :  Tim Appelhans <tim.appelhans@gmail.com>, Thomas Nauss \n",
      " Version  :  2012-01-06 \n",
      " License  :  GNU GPLv3, see http://www.gnu.org/licenses/ \n",
      "\n",
      " Module   :  strip \n",
      " Author   :  Tim Appelhans <tim.appelhans@gmail.com>, Thomas Nauss \n",
      " Version  :  2012-01-06 \n",
      " License  :  GNU GPLv3, see http://www.gnu.org/licenses/ \n",
      "\n",
      " Module   :  strip \n",
      " Author   :  Tim Appelhans <tim.appelhans@gmail.com>, Thomas Nauss \n",
      " Version  :  2012-01-06 \n",
      " License  :  GNU GPLv3, see http://www.gnu.org/licenses/ \n",
      "\n",
      " Module   :  strip \n",
      " Author   :  Tim Appelhans <tim.appelhans@gmail.com>, Thomas Nauss \n",
      " Version  :  2012-01-06 \n",
      " License  :  GNU GPLv3, see http://www.gnu.org/licenses/ \n",
      "\n",
      " Module   :  strip \n",
      " Author   :  Tim Appelhans <tim.appelhans@gmail.com>, Thomas Nauss \n",
      " Version  :  2012-01-06 \n",
      " License  :  GNU GPLv3, see http://www.gnu.org/licenses/ \n",
      "\n",
      " Module   :  strip \n",
      " Author   :  Tim Appelhans <tim.appelhans@gmail.com>, Thomas Nauss \n",
      " Version  :  2012-01-06 \n",
      " License  :  GNU GPLv3, see http://www.gnu.org/licenses/ \n",
      "\n",
      " Module   :  strip \n",
      " Author   :  Tim Appelhans <tim.appelhans@gmail.com>, Thomas Nauss \n",
      " Version  :  2012-01-06 \n",
      " License  :  GNU GPLv3, see http://www.gnu.org/licenses/ \n",
      "\n",
      " Module   :  strip \n",
      " Author   :  Tim Appelhans <tim.appelhans@gmail.com>, Thomas Nauss \n",
      " Version  :  2012-01-06 \n",
      " License  :  GNU GPLv3, see http://www.gnu.org/licenses/ \n",
      "\n",
      " Module   :  strip \n",
      " Author   :  Tim Appelhans <tim.appelhans@gmail.com>, Thomas Nauss \n",
      " Version  :  2012-01-06 \n",
      " License  :  GNU GPLv3, see http://www.gnu.org/licenses/ \n",
      "\n",
      " Module   :  strip \n",
      " Author   :  Tim Appelhans <tim.appelhans@gmail.com>, Thomas Nauss \n",
      " Version  :  2012-01-06 \n",
      " License  :  GNU GPLv3, see http://www.gnu.org/licenses/ \n",
      "\n",
      " Module   :  strip \n",
      " Author   :  Tim Appelhans <tim.appelhans@gmail.com>, Thomas Nauss \n",
      " Version  :  2012-01-06 \n",
      " License  :  GNU GPLv3, see http://www.gnu.org/licenses/ \n",
      "\n",
      " Module   :  strip \n",
      " Author   :  Tim Appelhans <tim.appelhans@gmail.com>, Thomas Nauss \n",
      " Version  :  2012-01-06 \n",
      " License  :  GNU GPLv3, see http://www.gnu.org/licenses/ \n",
      "\n",
      " Module   :  strip \n",
      " Author   :  Tim Appelhans <tim.appelhans@gmail.com>, Thomas Nauss \n",
      " Version  :  2012-01-06 \n",
      " License  :  GNU GPLv3, see http://www.gnu.org/licenses/ \n",
      "\n",
      " Module   :  strip \n",
      " Author   :  Tim Appelhans <tim.appelhans@gmail.com>, Thomas Nauss \n",
      " Version  :  2012-01-06 \n",
      " License  :  GNU GPLv3, see http://www.gnu.org/licenses/ \n",
      "\n",
      " Module   :  strip \n",
      " Author   :  Tim Appelhans <tim.appelhans@gmail.com>, Thomas Nauss \n",
      " Version  :  2012-01-06 \n",
      " License  :  GNU GPLv3, see http://www.gnu.org/licenses/ \n",
      "\n",
      " Module   :  strip \n",
      " Author   :  Tim Appelhans <tim.appelhans@gmail.com>, Thomas Nauss \n",
      " Version  :  2012-01-06 \n",
      " License  :  GNU GPLv3, see http://www.gnu.org/licenses/ \n",
      "\n",
      " Module   :  strip \n",
      " Author   :  Tim Appelhans <tim.appelhans@gmail.com>, Thomas Nauss \n",
      " Version  :  2012-01-06 \n",
      " License  :  GNU GPLv3, see http://www.gnu.org/licenses/ \n",
      "\n",
      " Module   :  strip \n",
      " Author   :  Tim Appelhans <tim.appelhans@gmail.com>, Thomas Nauss \n",
      " Version  :  2012-01-06 \n",
      " License  :  GNU GPLv3, see http://www.gnu.org/licenses/ \n"
     ]
    }
   ],
   "source": [
    "#HvalerDf[is.na(HvalerDf)] = 0\n",
    "for (i in seq(1, 20)){\n",
    "    zone = paste0('subs.', as.character(i));\n",
    "    pdf(paste0(zone, \"_Hvaler_strip.pdf\"),width=7,height=5)\n",
    "    zoneDf = HvalerDf %>% filter (!is.na(HvalerDf[[zone]]))\n",
    "    strip(x = zoneDf[[zone]], \n",
    "      date = zoneDf$DateTime,\n",
    "      cond = year(zoneDf$DateTime),\n",
    "      arrange = \"wide\",\n",
    "      main = paste(\"Consumption\", zone))\n",
    "    dev.off()\n",
    "}\n"
   ]
  },
  {
   "cell_type": "code",
   "execution_count": 35,
   "metadata": {
    "collapsed": false
   },
   "outputs": [
    {
     "name": "stdout",
     "output_type": "stream",
     "text": [
      "\n",
      " Module   :  strip \n",
      " Author   :  Tim Appelhans <tim.appelhans@gmail.com>, Thomas Nauss \n",
      " Version  :  2012-01-06 \n",
      " License  :  GNU GPLv3, see http://www.gnu.org/licenses/ \n"
     ]
    },
    {
     "data": {
      "text/html": [
       "<strong>png:</strong> 2"
      ],
      "text/latex": [
       "\\textbf{png:} 2"
      ],
      "text/markdown": [
       "**png:** 2"
      ],
      "text/plain": [
       "png \n",
       "  2 "
      ]
     },
     "metadata": {},
     "output_type": "display_data"
    }
   ],
   "source": [
    "pdf(\"temp_Hvaler_strip.pdf\",width=7,height=5)\n",
    "strip(x = HvalerDf$T01, \n",
    "  date = HvalerDf$DateTime,\n",
    "  cond = year(HvalerDf$DateTime),\n",
    "  arrange = \"wide\",\n",
    "  main = paste(\"Temperature\", zone))\n",
    "dev.off()\n"
   ]
  },
  {
   "cell_type": "code",
   "execution_count": null,
   "metadata": {
    "collapsed": true
   },
   "outputs": [],
   "source": []
  }
 ],
 "metadata": {
  "kernelspec": {
   "display_name": "R",
   "language": "R",
   "name": "ir"
  },
  "language_info": {
   "codemirror_mode": "r",
   "file_extension": ".r",
   "mimetype": "text/x-r-source",
   "name": "R",
   "pygments_lexer": "r",
   "version": "3.3.1"
  }
 },
 "nbformat": 4,
 "nbformat_minor": 1
}
