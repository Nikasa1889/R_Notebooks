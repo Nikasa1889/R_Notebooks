{
 "cells": [
  {
   "cell_type": "markdown",
   "metadata": {},
   "source": [
    "#### Make prediction using DSHW"
   ]
  },
  {
   "cell_type": "code",
   "execution_count": null,
   "metadata": {
    "collapsed": false
   },
   "outputs": [],
   "source": [
    "library(tidyr)\n",
    "library(dplyr)\n",
    "source(\"Lib/PredictDSHW.R\")"
   ]
  },
  {
   "cell_type": "code",
   "execution_count": null,
   "metadata": {
    "collapsed": false
   },
   "outputs": [],
   "source": [
    "HvalerTrainingFile = \"Hvaler/training_set.csv\"\n",
    "HvalerCompleteFile = \"Hvaler/imputed_complete.csv\"\n",
    "OutputDir = \"Hvaler/Predictions/\"\n",
    "HvalerClasses = c('POSIXct', rep(\"numeric\", 21))\n",
    "Zones = paste0(\"subs.\", seq(1, 20))\n",
    "Temperatures = c(\"T01\")\n",
    "Horizons = seq(1, 24)\n",
    "trainingDf = read.csv(HvalerTrainingFile, stringsAsFactors=FALSE, colClasses=HvalerClasses)\n",
    "completeDf = read.csv(HvalerCompleteFile, stringsAsFactors=FALSE, colClasses=HvalerClasses)\n",
    "#This will take several hours!\n",
    "predictDSHW(OutputDir, trainingDf, completeDf, Zones, Horizons, modifiedDSHW=FALSE, PlotResult = FALSE)"
   ]
  },
  {
   "cell_type": "code",
   "execution_count": null,
   "metadata": {
    "collapsed": false
   },
   "outputs": [],
   "source": [
    "#Predict for GEFCom2012\n",
    "GEFCom2012TrainingFile = \"GEFCom2012/training_set.csv\"\n",
    "GEFCom2012CompleteFile = \"GEFCom2012/complete.csv\"\n",
    "OutputDir = \"GEFCom2012/Predictions/\"\n",
    "GEFCom2012Classes = c('POSIXct', rep(\"numeric\", 32))\n",
    "Zones = paste0(\"zone.\", seq(1, 20))\n",
    "Temperatures = c(\"T01\",\"T02\",\"T03\",\"T04\",\"T05\",\"T06\",\"T07\",\"T08\",\"T09\",\"T10\",\"T11\")\n",
    "Horizons = seq(1, 24)\n",
    "trainingDf = read.csv(GEFCom2012TrainingFile, stringsAsFactors=FALSE, colClasses=GEFCom2012Classes)\n",
    "completeDf = read.csv(GEFCom2012CompleteFile, stringsAsFactors=FALSE, colClasses=GEFCom2012Classes)\n",
    "#This will take several hours!\n",
    "predictDSHW(OutputDir, trainingDf, completeDf, Zones, Horizons, modifiedDSHW=FALSE, PlotResult = FALSE)"
   ]
  },
  {
   "cell_type": "code",
   "execution_count": null,
   "metadata": {
    "collapsed": true
   },
   "outputs": [],
   "source": []
  }
 ],
 "metadata": {
  "kernelspec": {
   "display_name": "R",
   "language": "R",
   "name": "ir"
  },
  "language_info": {
   "codemirror_mode": "r",
   "file_extension": ".r",
   "mimetype": "text/x-r-source",
   "name": "R",
   "pygments_lexer": "r",
   "version": "3.3.1"
  }
 },
 "nbformat": 4,
 "nbformat_minor": 1
}
