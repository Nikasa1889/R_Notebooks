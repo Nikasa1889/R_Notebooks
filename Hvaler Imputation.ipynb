{
 "cells": [
  {
   "cell_type": "code",
   "execution_count": null,
   "metadata": {
    "collapsed": false
   },
   "outputs": [],
   "source": [
    "library(tidyr)\n",
    "library(dplyr)\n",
    "library(lubridate)\n",
    "library(xts)\n",
    "\n",
    "completeHvalerFile = \"Hvaler/complete.csv\"\n",
    "completeHvalerClasses = c('POSIXct', rep(\"numeric\", 21))\n",
    "HvalerDf = read.csv(completeHvalerFile, stringsAsFactors=FALSE, colClasses=completeHvalerClasses)\n",
    "xt = xts(x = HvalerDf[, -1], order.by = HvalerDf[, 1])"
   ]
  },
  {
   "cell_type": "code",
   "execution_count": null,
   "metadata": {
    "collapsed": false
   },
   "outputs": [],
   "source": [
    "#Impute temperature first (Hvaler has 9 missing values on temperature)\n",
    "require(\"imputeTS\")\n",
    "imputed_xt = na.kalman(as.ts(xt$T01), model = \"auto.arima\", smooth = TRUE)\n",
    "imputed_xts = xts(imputed_xt, index(xt))\n",
    "HvalerDf[match(index(imputed_xts), HvalerDf$DateTime), \"T01\"] = coredata(imputed_xts)"
   ]
  },
  {
   "cell_type": "code",
   "execution_count": null,
   "metadata": {
    "collapsed": false
   },
   "outputs": [],
   "source": [
    "#str(imputedDf)\n",
    "#imputed_DF = rfImpute(T01 ~ year + month + weekend + hour+ subs.1, imputedDf, ntree = 100)\n",
    "library(Amelia)\n",
    "df = HvalerDf %>% mutate(hour_weekend = as.factor(paste0(as.character(hour(DateTime)),\n",
    "                                                         \".\",\n",
    "                                                         as.character(wday(DateTime) %in% c(1, 7)))))\n",
    "cols = seq(2, 21)\n",
    "min = rep(0, 20)\n",
    "max = rep(9999999, 20)\n",
    "bounds = as.matrix(cbind(cols, min, max))\n",
    "\n",
    "out = amelia(df, ts = \"T01\", polytime = 2, cs = 'hour_weekend', intercs = TRUE, bounds=bounds, max.resample = 1000)\n",
    "str(out)\n"
   ]
  },
  {
   "cell_type": "code",
   "execution_count": null,
   "metadata": {
    "collapsed": false,
    "scrolled": true
   },
   "outputs": [],
   "source": [
    "imputedHvalerDf = out$imputations$imp1 %>% select (-hour_weekend)\n",
    "write.csv(imputedHvalerDf, \"Hvaler/imputed_complete.csv\", row.names=FALSE)\n",
    "\n",
    "#Draw imputed dataset\n",
    "source(\"Lib/strip.R\")\n",
    "\n",
    "for (i in seq(1, 20)){\n",
    "    zone = paste0(\"subs.\", i);\n",
    "    pdf(paste0(\"imputed_\", zone, \"_Hvaler_strip.pdf\"),width=7,height=5)\n",
    "    zoneDf = out$imputations$imp1\n",
    "    strip(x = zoneDf[[zone]], \n",
    "      date = zoneDf$DateTime,\n",
    "      cond = year(zoneDf$DateTime),\n",
    "      arrange = \"wide\",\n",
    "      main = paste(\"Consumption\", zone))\n",
    "    dev.off()\n",
    "}\n"
   ]
  },
  {
   "cell_type": "code",
   "execution_count": null,
   "metadata": {
    "collapsed": false
   },
   "outputs": [],
   "source": [
    "#library(randomForest)\n",
    "#imputedDf = HvalerDf %>% mutate(year=year(DateTime), month=month(DateTime), \n",
    "#                                weekend=wday(DateTime) %in% c(1, 7), hour=hour(DateTime))%>%\n",
    "#                         mutate(weekend = as.factor(weekend), hour = as.numeric(hour)) %>%\n",
    "#                         select(-DateTime)\n"
   ]
  }
 ],
 "metadata": {
  "kernelspec": {
   "display_name": "R",
   "language": "R",
   "name": "ir"
  },
  "language_info": {
   "codemirror_mode": "r",
   "file_extension": ".r",
   "mimetype": "text/x-r-source",
   "name": "R",
   "pygments_lexer": "r",
   "version": "3.3.1"
  }
 },
 "nbformat": 4,
 "nbformat_minor": 1
}
