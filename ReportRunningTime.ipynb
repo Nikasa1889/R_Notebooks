{
 "cells": [
  {
   "cell_type": "code",
   "execution_count": 175,
   "metadata": {
    "collapsed": false
   },
   "outputs": [],
   "source": [
    "require(dplyr)\n",
    "require(tidyr)\n",
    "require(ggplot2)\n",
    "#Define which log files you want to report the running time\n",
    "LogFiles = c(\"RunExperiment_GEFCom2012_noRandomForest.log\",\n",
    "             \"RunExperiment_Hvaler.log\")\n",
    "reportDf = data.frame(MethodName=character(), Zone=character(), Period=character(), Time=numeric())\n",
    "for (logFile in LogFiles) {\n",
    "    df = read.table(logFile, stringsAsFactors = FALSE, sep=\"!\", header=FALSE)\n",
    "    names(df) = c(\"Text\")\n",
    "    #Time report for all methods except random forest, which has different model for each horizon\n",
    "    otherMethodDf = df %>% filter (regexpr(\"\\\\w*\\\\|(\\\\w|\\\\.|\\\\s)*\\\\|(\\\\w|\\\\.|\\\\s)*\\\\|(\\\\w|\\\\.|\\\\s)*$\", Text)>=0 \n",
    "                                   & regexpr(\"horizon\", Text)<0) #other method report does not contain horizon string\n",
    "    if (nrow(otherMethodDf) > 0){\n",
    "        otherMethodDf = otherMethodDf %>% \n",
    "                mutate (start = regexpr(\"\\\\w*\\\\|\", Text), length = attr(start, 'match.length')) %>%\n",
    "                mutate (MethodName = substr(Text, start, start+length-2), Text = substr(Text, start+length, nchar(Text))) %>%\n",
    "                mutate (start = regexpr(\"(\\\\w|\\\\.|\\\\s)*\\\\|\", Text), length = attr(start, 'match.length')) %>%\n",
    "                mutate (Zone = substr(Text, start, start+length-2), Text = substr(Text, start+length, nchar(Text))) %>%\n",
    "                mutate (start = regexpr(\"(\\\\w|\\\\.|\\\\s)*\\\\|\", Text), length = attr(start, 'match.length')) %>%\n",
    "                mutate (Period = substr(Text, start, start+length-2), Text = substr(Text, start+length, nchar(Text))) %>%\n",
    "                mutate (start = regexpr(\"(\\\\.|\\\\d)*$\", Text), length = attr(start, 'match.length')) %>%\n",
    "                mutate (Time = as.numeric(substr(Text, start, start+length-2))) %>%\n",
    "                select (MethodName, Zone, Period, Time)\n",
    "    } else {\n",
    "        otherMethodDf = NULL\n",
    "    }\n",
    "    #Time report for random forest, which has different model for each horizon, and use all 8 cores to train 1 model\n",
    "    #Must multiply to 8\n",
    "    randomForestDf = df %>% filter (regexpr(\"\\\\w*\\\\|(\\\\w|\\\\.|\\\\s)*\\\\|(\\\\w|\\\\.|\\\\s)*\\\\|(\\\\w|\\\\.|\\\\s)*\\\\|(\\\\w|\\\\.|\\\\s)*$\", Text)>=0)\n",
    "    if (nrow(randomForestDf) > 0){\n",
    "        randomForestDf = randomForestDf %>% \n",
    "                mutate (start = regexpr(\"\\\\w*\\\\|\", Text), length = attr(start, 'match.length')) %>%\n",
    "                mutate (MethodName = substr(Text, start, start+length-2), Text = substr(Text, start+length, nchar(Text))) %>%\n",
    "                mutate (start = regexpr(\"(\\\\w|\\\\.|\\\\s)*\\\\|\", Text), length = attr(start, 'match.length')) %>%\n",
    "                mutate (Zone = substr(Text, start, start+length-2), Text = substr(Text, start+length, nchar(Text))) %>%\n",
    "                mutate (start = regexpr(\"(\\\\w|\\\\.|\\\\s)*\\\\|\", Text), length = attr(start, 'match.length')) %>%\n",
    "                mutate (Period = substr(Text, start, start+length-2), Text = substr(Text, start+length, nchar(Text))) %>%\n",
    "                mutate (start = regexpr(\"(\\\\.|\\\\d)*$\", Text), length = attr(start, 'match.length')) %>%\n",
    "                mutate (Time = as.numeric(substr(Text, start, start+length-2))) %>%\n",
    "                select (MethodName, Zone, Period, Time) %>%\n",
    "                group_by (MethodName, Zone, Period) %>% summarize (Time = mean(Time)*24) %>% #24 horizons\n",
    "                mutate (Time = Time*8) #Need all 8 cores\n",
    "    } else {\n",
    "        randomForestDf = NULL\n",
    "    }\n",
    "    reportDf = rbind(reportDf, otherMethodDf, randomForestDf)\n",
    "}\n",
    "    \n",
    "#df %>% unite(Zone.Period, Zone, Period, sep = \".\") %>%spread(Zone.Period, Time)\n"
   ]
  },
  {
   "cell_type": "code",
   "execution_count": 186,
   "metadata": {
    "collapsed": false,
    "scrolled": false
   },
   "outputs": [
    {
     "data": {},
     "metadata": {},
     "output_type": "display_data"
    },
    {
     "data": {
      "text/html": [
       "<strong>png:</strong> 2"
      ],
      "text/latex": [
       "\\textbf{png:} 2"
      ],
      "text/markdown": [
       "**png:** 2"
      ],
      "text/plain": [
       "png \n",
       "  2 "
      ]
     },
     "metadata": {},
     "output_type": "display_data"
    }
   ],
   "source": [
    "#Order the method for better plot in paper, don't need this\n",
    "reportDf$MethodName <- factor(reportDf$MethodName, levels = c('averageARIMA','OriginalDSHW', \"ModifiedDSHW\", \"semiParametric\", \"TBATS\", \"randomforest\" ),ordered = TRUE)\n",
    "pdf(\"running_time.pdf\",width=7,height=5)\n",
    "ggplot(reportDf, aes(factor(MethodName), Time)) + geom_boxplot() + \n",
    "#ggtitle(\"Running Time\") +\n",
    "labs(x=\"\")+ \n",
    "scale_y_continuous(name=\"CPU Time (seconds)\", breaks = seq(0, 1500, 200)) +\n",
    "theme(axis.text.y = element_text(size=12),\n",
    "      axis.text.x = element_text(size=12, angle=45, hjust=1))\n",
    "dev.off()"
   ]
  },
  {
   "cell_type": "code",
   "execution_count": 174,
   "metadata": {
    "collapsed": false
   },
   "outputs": [],
   "source": [
    "write.csv(reportDf, \"running_time_report.csv\", row.names=FALSE)"
   ]
  },
  {
   "cell_type": "code",
   "execution_count": 180,
   "metadata": {
    "collapsed": false
   },
   "outputs": [
    {
     "data": {
      "text/html": [
       "<ol class=list-inline>\n",
       "\t<li>0</li>\n",
       "\t<li>200</li>\n",
       "\t<li>400</li>\n",
       "\t<li>600</li>\n",
       "\t<li>800</li>\n",
       "\t<li>1000</li>\n",
       "\t<li>1200</li>\n",
       "\t<li>1400</li>\n",
       "</ol>\n"
      ],
      "text/latex": [
       "\\begin{enumerate*}\n",
       "\\item 0\n",
       "\\item 200\n",
       "\\item 400\n",
       "\\item 600\n",
       "\\item 800\n",
       "\\item 1000\n",
       "\\item 1200\n",
       "\\item 1400\n",
       "\\end{enumerate*}\n"
      ],
      "text/markdown": [
       "1. 0\n",
       "2. 200\n",
       "3. 400\n",
       "4. 600\n",
       "5. 800\n",
       "6. 1000\n",
       "7. 1200\n",
       "8. 1400\n",
       "\n",
       "\n"
      ],
      "text/plain": [
       "[1]    0  200  400  600  800 1000 1200 1400"
      ]
     },
     "metadata": {},
     "output_type": "display_data"
    }
   ],
   "source": [
    "seq(0, 1500, 200)"
   ]
  },
  {
   "cell_type": "code",
   "execution_count": null,
   "metadata": {
    "collapsed": true
   },
   "outputs": [],
   "source": []
  }
 ],
 "metadata": {
  "kernelspec": {
   "display_name": "R",
   "language": "R",
   "name": "ir"
  },
  "language_info": {
   "codemirror_mode": "r",
   "file_extension": ".r",
   "mimetype": "text/x-r-source",
   "name": "R",
   "pygments_lexer": "r",
   "version": "3.3.1"
  }
 },
 "nbformat": 4,
 "nbformat_minor": 1
}
