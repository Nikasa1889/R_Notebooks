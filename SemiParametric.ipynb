{
 "cells": [
  {
   "cell_type": "markdown",
   "metadata": {},
   "source": [
    "#### Make prediction using DSHW"
   ]
  },
  {
   "cell_type": "code",
   "execution_count": 15,
   "metadata": {
    "collapsed": false
   },
   "outputs": [
    {
     "name": "stderr",
     "output_type": "stream",
     "text": [
      "\n",
      "Attaching package: ‘dplyr’\n",
      "\n",
      "The following objects are masked from ‘package:stats’:\n",
      "\n",
      "    filter, lag\n",
      "\n",
      "The following objects are masked from ‘package:base’:\n",
      "\n",
      "    intersect, setdiff, setequal, union\n",
      "\n",
      "\n",
      "Attaching package: ‘lubridate’\n",
      "\n",
      "The following object is masked from ‘package:base’:\n",
      "\n",
      "    date\n",
      "\n"
     ]
    }
   ],
   "source": [
    "library(tidyr)\n",
    "library(dplyr)\n",
    "library(lubridate)"
   ]
  },
  {
   "cell_type": "code",
   "execution_count": 16,
   "metadata": {
    "collapsed": false
   },
   "outputs": [],
   "source": [
    "HvalerTrainingFile = \"Hvaler/training_set.csv\"\n",
    "HvalerCompleteFile = \"Hvaler/imputed_complete.csv\"\n",
    "OutputDir = \"Hvaler/Predictions/\"\n",
    "HvalerClasses = c('POSIXct', rep(\"numeric\", 21))\n",
    "Zones = paste0(\"subs.\", seq(1, 20))\n",
    "Temperatures = c(\"T01\")\n",
    "Horizons = seq(1, 24)\n",
    "trainingDf = read.csv(HvalerTrainingFile, stringsAsFactors=FALSE, colClasses=HvalerClasses)\n",
    "completeDf = read.csv(HvalerCompleteFile, stringsAsFactors=FALSE, colClasses=HvalerClasses)\n",
    "#This will take several hours!\n"
   ]
  },
  {
   "cell_type": "code",
   "execution_count": null,
   "metadata": {
    "collapsed": true
   },
   "outputs": [],
   "source": [
    "require('KernSmooth')\n",
    "require('bbemkr')\n",
    "require('mgcv')\n",
    "require('timeDate')\n",
    "library(\"MASS\")\n",
    "library('forecast')\n",
    "\n",
    "#Identify where are the start and end of the prediction periods by shifting index of NA\n",
    "idxNaCases = !complete.cases(trainingDf)\n",
    "startPoints =  which(idxNaCases & !c(FALSE, head(idxNaCases, -1)) & c(tail(idxNaCases, -1), TRUE))\n",
    "endPoints = which(idxNaCases & c(TRUE, head(idxNaCases, -1)) & !c(tail(idxNaCases, -1), FALSE))\n",
    "startDates = trainingDf$DateTime[startPoints]\n",
    "endDates = trainingDf$DateTime[endPoints]\n",
    "nTestingPeriods = length(startDates)\n",
    "\n",
    "#Create Time Features\n",
    "startYear = completeDf$DateTime[1]\n",
    "endYear = tail(completeDf$DateTime, 1)\n",
    "years = seq(startYear, endYear)\n",
    "NorwayHolidays = c(EasterMonday(years), Ascension(years), PentecostMonday(years), LaborDay(years), GoodFriday(years), BoxingDay(years), GoodFriday(years)-86400);\n",
    "completeDf = completeDf %>% mutate(Holiday=DateTime %in% NorwayHolidays) %>%\n",
    "                            mutate(ChristmasDay= DateTime %in% ChristmasDay(years)) %>%\n",
    "                            mutate(ChristmasEve= DateTime %in% ChristmasEve(years)) %>%\n",
    "                            mutate(NewYearsDay= DateTime %in% NewYearsDay(years)) %>%\n",
    "                            mutate(DoW = factor(wday(DateTime))) %>%\n",
    "                            mutate(ToY = as.numeric(strftime(DateTime, format = \"%j\"))+as.numeric(strftime(DateTime, format=\"%H\"))/24)\n",
    "            \n",
    "\n",
    "#Assume the zone and temperature here\n",
    "zones = c(\"subs.1\") #TODO remove\n",
    "temperatures = c(\"T01\") #TODO remove\n",
    "horizons = c(1) #TODO remove\n",
    "for (zone in zones){\n",
    "    #Find the best correlated temperature with current zone\n",
    "    maxCor = -1\n",
    "    bestTemp = temperatures[[1]]\n",
    "    for (temp in temperatures){\n",
    "        correlation = cor(completeDf[[zone]], completeDf[[temp]])\n",
    "        if (correlation > maxCor){\n",
    "            maxCor = correlation\n",
    "            bestTemp = temp\n",
    "        }\n",
    "    }\n",
    "    completeDf$T = completeDf[[bestTemp]]\n",
    "    featureDf = completeDf %>% select(c(\"DateTime\", \"Holiday\", \"ChristmasDay\", \"ChristmasEve\", \"NewYearsDay\", \"DoW\", \"ToY\", \"T\" ))\n",
    "    featureDf$y = featureDf[[zone]]\n",
    "    featureDf$SmoT = featureDf$T\n",
    "    for (i in 2:length(featureDf$T)){\n",
    "        featureDf$SmoT[i] = 0.15*featureDf$T[i] + 0.85*featureDf$SmoT[i-1]\n",
    "    }\n",
    "    \n",
    "    featureDf$LT = rep(0, nrow(featureDf))\n",
    "    for (period in seq(1, nTestingPeriods)){\n",
    "        #Prepare for training model\n",
    "        startDate = startDates[period]\n",
    "        endDate = endDates[period]\n",
    "        trainData = featureDf %>% filter(DateTime < startDate) %>% select (-DateTime)\n",
    "        E.xts = xts(trainData$y, trainData$DateTime)\n",
    "        T.xts = xts(trainData$T, trainData$DateTime)\n",
    "        trainData$LT = longTermTrend(E.xts, T.xts)\n",
    "        spec = E ~ LT + s(T)+s(SmoT)+s(ToY,bs=\"cc\", k = 100)+DoW+ChristmasDay+ChristmasEve+NewYearsDay+Holiday\n",
    "        for (h in horizons){\n",
    "            trainDataAtH = trainData %>% filter(hour(DateTime)==h)\n",
    "            model = gam(spec, data=trainData)\n",
    "            #gam.check(model)\n",
    "\n",
    "            #Testing\n",
    "            testingIdx = (hour(featureDf$DateTime)==h) & (featureDf$DateTime >= startDate) & (featureDf$DateTime <= endDate)\n",
    "            featureDf$LT[testingIdx] = rep(tail(trainData$LT, 1), length(testingIdx))\n",
    "            testData = featureDf[testingIdx, ] %>% select(-DateTime)\n",
    "            prediction = predict(model, testData)$fitted.values\n",
    "            predictions[[h]][testingIdx, zone] = prediction\n",
    "        }\n",
    "    }  \n",
    "}\n"
   ]
  },
  {
   "cell_type": "code",
   "execution_count": null,
   "metadata": {
    "collapsed": false
   },
   "outputs": [],
   "source": [
    "longTermTrend <- function(E.xts, T.xts, BANDWIDTH=12){\n",
    "    E.month.xts = apply.monthly(E.xts, FUN=\"mean\", na.rm = TRUE)\n",
    "    I = as.numeric(format(index(E.month.xts), \"%m\"))\n",
    "    I = factor(I)\n",
    "    T = apply.monthly(T.xts[index(E.xts)], FUN=\"mean\", na.rm = TRUE)\n",
    "    E.model = gam(E.month.xts ~ I + s(T))#ERROR!!\n",
    "    E.est = E.model$fitted.values\n",
    "    E.residuals = E.model$residuals\n",
    "    a = NadarayaWatsonkernel(1:length(E.residuals), E.residuals, BANDWIDTH, 1:length(E.residuals))\n",
    "    a$mh\n",
    "    month = as.numeric(format(index(E.xts), \"%m\"))\n",
    "    year = as.numeric(format(index(E.xts), \"%y\"))\n",
    "\n",
    "    idx = (year-year[1])*12+(month-month[1])+1\n",
    "\n",
    "    days = rep(0, length(E.xts))\n",
    "    for (i in 1:length(a$mh)){\n",
    "        days[which(idx == i)]  = sum(idx==i)\n",
    "    }\n",
    "\n",
    "    fraction = as.numeric(format(index(E.xts), \"%d\"))*24 + as.numeric(format(index(E.xts), \"%H\"))\n",
    "\n",
    "    trend.month = c(a$mh[1]-(a$mh[2]-a$mh[1]), a$mh)\n",
    "    trend = rep(0, length(E.xts))\n",
    "    trend = (trend.month[idx+1]-trend.month[idx])*fraction/days + trend.month[idx]\n",
    "    trend.xts = xts(trend, order.by = index(E.xts))\n",
    "    trend.xts\n",
    "}"
   ]
  },
  {
   "cell_type": "code",
   "execution_count": null,
   "metadata": {
    "collapsed": true
   },
   "outputs": [],
   "source": []
  }
 ],
 "metadata": {
  "kernelspec": {
   "display_name": "R",
   "language": "R",
   "name": "ir"
  },
  "language_info": {
   "codemirror_mode": "r",
   "file_extension": ".r",
   "mimetype": "text/x-r-source",
   "name": "R",
   "pygments_lexer": "r",
   "version": "3.3.1"
  }
 },
 "nbformat": 4,
 "nbformat_minor": 1
}
