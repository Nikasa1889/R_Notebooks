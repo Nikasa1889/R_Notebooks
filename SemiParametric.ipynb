{
 "cells": [
  {
   "cell_type": "markdown",
   "metadata": {},
   "source": [
    "#### Make prediction using DSHW"
   ]
  },
  {
   "cell_type": "code",
   "execution_count": 167,
   "metadata": {
    "collapsed": false
   },
   "outputs": [],
   "source": [
    "library(tidyr)\n",
    "library(dplyr)\n",
    "library(lubridate)\n",
    "library(xts)\n",
    "source(\"Lib/PredictSemiParametricArima.R\")"
   ]
  },
  {
   "cell_type": "code",
   "execution_count": null,
   "metadata": {
    "collapsed": false
   },
   "outputs": [],
   "source": [
    "HvalerTrainingFile = \"Hvaler/training_set.csv\"\n",
    "HvalerCompleteFile = \"Hvaler/imputed_complete.csv\"\n",
    "OutputDir = \"Hvaler/Predictions/\"\n",
    "HvalerClasses = c('POSIXct', rep(\"numeric\", 21))\n",
    "Zones = paste0(\"subs.\", rep(1, 20)) #fix zone\n",
    "Temperatures = c(\"T01\")\n",
    "Horizons = seq(1, 24)\n",
    "trainingDf = read.csv(HvalerTrainingFile, stringsAsFactors=FALSE, colClasses=HvalerClasses)\n",
    "completeDf = read.csv(HvalerCompleteFile, stringsAsFactors=FALSE, colClasses=HvalerClasses)\n",
    "#This will take several hours!\n",
    "predictSemiParametricArima(OutputDir, trainingDf, completeDf, Zones, Temperatures, Horizons, PlotResult = FALSE)"
   ]
  },
  {
   "cell_type": "code",
   "execution_count": null,
   "metadata": {
    "collapsed": true
   },
   "outputs": [],
   "source": []
  }
 ],
 "metadata": {
  "kernelspec": {
   "display_name": "R",
   "language": "R",
   "name": "ir"
  },
  "language_info": {
   "codemirror_mode": "r",
   "file_extension": ".r",
   "mimetype": "text/x-r-source",
   "name": "R",
   "pygments_lexer": "r",
   "version": "3.3.1"
  }
 },
 "nbformat": 4,
 "nbformat_minor": 1
}
