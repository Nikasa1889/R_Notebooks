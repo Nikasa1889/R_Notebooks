{
 "cells": [
  {
   "cell_type": "markdown",
   "metadata": {},
   "source": [
    "#### Make prediction using DSHW"
   ]
  },
  {
   "cell_type": "code",
   "execution_count": 1,
   "metadata": {
    "collapsed": false
   },
   "outputs": [
    {
     "name": "stderr",
     "output_type": "stream",
     "text": [
      "\n",
      "Attaching package: ‘dplyr’\n",
      "\n",
      "The following objects are masked from ‘package:stats’:\n",
      "\n",
      "    filter, lag\n",
      "\n",
      "The following objects are masked from ‘package:base’:\n",
      "\n",
      "    intersect, setdiff, setequal, union\n",
      "\n"
     ]
    }
   ],
   "source": [
    "library(tidyr)\n",
    "library(dplyr)"
   ]
  },
  {
   "cell_type": "code",
   "execution_count": 2,
   "metadata": {
    "collapsed": false
   },
   "outputs": [],
   "source": [
    "HvalerTrainingFile = \"Hvaler/training_set.csv\"\n",
    "HvalerCompleteFile = \"Hvaler/imputed_complete.csv\"\n",
    "OutputDir = \"Hvaler/Predictions/\"\n",
    "HvalerClasses = c('POSIXct', rep(\"numeric\", 21))\n",
    "Zones = paste0(\"subs.\", seq(1, 20))\n",
    "Temperatures = c(\"T01\")\n",
    "Horizons = seq(1, 24)\n",
    "trainingDf = read.csv(HvalerTrainingFile, stringsAsFactors=FALSE, colClasses=HvalerClasses)\n",
    "completeDf = read.csv(HvalerCompleteFile, stringsAsFactors=FALSE, colClasses=HvalerClasses)\n",
    "#This will take several hours!\n"
   ]
  },
  {
   "cell_type": "code",
   "execution_count": null,
   "metadata": {
    "collapsed": true
   },
   "outputs": [],
   "source": []
  },
  {
   "cell_type": "code",
   "execution_count": 36,
   "metadata": {
    "collapsed": false
   },
   "outputs": [
    {
     "name": "stderr",
     "output_type": "stream",
     "text": [
      "Warning message in min(y, na.rm = TRUE):\n",
      "“no non-missing arguments to min; returning Inf”"
     ]
    },
    {
     "ename": "ERROR",
     "evalue": "Error in ts(data = data, frequency = ts.frequency, ...): 'ts' object must have one or more observations\n",
     "output_type": "error",
     "traceback": [
      "Error in ts(data = data, frequency = ts.frequency, ...): 'ts' object must have one or more observations\nTraceback:\n",
      "1. predictDSHW(OutputDir, trainingDf, completeDf, Zones, Horizons, \n .     modifiedDSHW = FALSE, PlotResult = FALSE)",
      "2. dshw(trainXts, season1, season2, h = season1)   # at line 42 of file <text>",
      "3. msts(y, c(period1, period2))",
      "4. ts(data = data, frequency = ts.frequency, ...)",
      "5. stop(\"'ts' object must have one or more observations\")"
     ]
    }
   ],
   "source": [
    "#Predict for GEFCom2012\n",
    "GEFCom2012TrainingFile = \"GEFCom2012/training_set.csv\"\n",
    "GEFCom2012CompleteFile = \"GEFCom2012/complete.csv\"\n",
    "OutputDir = \"GEFCom2012/Predictions/\"\n",
    "GEFCom2012Classes = c('POSIXct', rep(\"numeric\", 32))\n",
    "Zones = paste0(\"zone.\", seq(1, 20))\n",
    "Temperatures = c(\"T01\",\"T02\",\"T03\",\"T04\",\"T05\",\"T06\",\"T07\",\"T08\",\"T09\",\"T10\",\"T11\")\n",
    "Horizons = seq(1, 24)\n",
    "trainingDf = read.csv(GEFCom2012TrainingFile, stringsAsFactors=FALSE, colClasses=GEFCom2012Classes)\n",
    "completeDf = read.csv(GEFCom2012CompleteFile, stringsAsFactors=FALSE, colClasses=GEFCom2012Classes)\n",
    "#This will take several hours!\n",
    "predictDSHW(OutputDir, trainingDf, completeDf, Zones, Horizons, modifiedDSHW=FALSE, PlotResult = FALSE)"
   ]
  },
  {
   "cell_type": "code",
   "execution_count": null,
   "metadata": {
    "collapsed": true
   },
   "outputs": [],
   "source": []
  }
 ],
 "metadata": {
  "kernelspec": {
   "display_name": "R",
   "language": "R",
   "name": "ir"
  },
  "language_info": {
   "codemirror_mode": "r",
   "file_extension": ".r",
   "mimetype": "text/x-r-source",
   "name": "R",
   "pygments_lexer": "r",
   "version": "3.3.1"
  }
 },
 "nbformat": 4,
 "nbformat_minor": 1
}
