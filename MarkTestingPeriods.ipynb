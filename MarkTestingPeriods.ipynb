{
 "cells": [
  {
   "cell_type": "markdown",
   "metadata": {},
   "source": [
    "### Create training set for Hvaler"
   ]
  },
  {
   "cell_type": "code",
   "execution_count": 68,
   "metadata": {
    "collapsed": false
   },
   "outputs": [],
   "source": [
    "library(tidyr)\n",
    "library(dplyr)\n",
    "library(lubridate)\n",
    "library(xts)\n",
    "\n",
    "KeepingYears = c(2012, 2013)\n",
    "TestingYears = c(2013)\n",
    "TestingWeeks = c(16, 28, 40, 52, 53)\n",
    "\n",
    "HvalerDfFile = \"Hvaler/imputed_complete.csv\"\n",
    "HvalerClasses = c('POSIXct', rep(\"numeric\", 21))\n",
    "\n",
    "df = read.csv(HvalerDfFile, stringsAsFactors=FALSE, colClasses=HvalerClasses) \n",
    "df = df %>% filter (year(df$DateTime) %in% KeepingYears) #only keep data within these years\n",
    "testing_idx = year(df$DateTime) %in% TestingYears #Satisfy the year\n",
    "testing_idx = testing_idx & (week(df$DateTime) %in% TestingWeeks) #Satisfy the week number\n",
    "\n",
    "df[testing_idx, !(colnames(df) %in% c(\"DateTime\", \"T01\")) ] = NA\n",
    "\n",
    "write.csv(df, \"Hvaler/training_set.csv\", row.names=FALSE)"
   ]
  },
  {
   "cell_type": "code",
   "execution_count": 69,
   "metadata": {
    "collapsed": false
   },
   "outputs": [
    {
     "name": "stdout",
     "output_type": "stream",
     "text": [
      "\n",
      " Module   :  strip \n",
      " Author   :  Tim Appelhans <tim.appelhans@gmail.com>, Thomas Nauss \n",
      " Version  :  2012-01-06 \n",
      " License  :  GNU GPLv3, see http://www.gnu.org/licenses/ \n"
     ]
    },
    {
     "data": {
      "text/html": [
       "<strong>png:</strong> 2"
      ],
      "text/latex": [
       "\\textbf{png:} 2"
      ],
      "text/markdown": [
       "**png:** 2"
      ],
      "text/plain": [
       "png \n",
       "  2 "
      ]
     },
     "metadata": {},
     "output_type": "display_data"
    }
   ],
   "source": [
    "#Visualize training data\n",
    "source(\"Lib/strip.R\")\n",
    "zone = \"subs.1\";\n",
    "pdf(paste0(zone, \"_trainingdata.pdf\"),width=7,height=5)\n",
    "strip(x = df[[zone]], \n",
    "  date = df$DateTime,\n",
    "  cond = year(df$DateTime),\n",
    "  arrange = \"wide\",\n",
    "  main = paste(\"Consumption\", zone))\n",
    "dev.off()"
   ]
  },
  {
   "cell_type": "markdown",
   "metadata": {},
   "source": [
    "### Create training set for GEFCom2012"
   ]
  },
  {
   "cell_type": "code",
   "execution_count": 70,
   "metadata": {
    "collapsed": false,
    "scrolled": true
   },
   "outputs": [],
   "source": [
    "library(tidyr)\n",
    "library(dplyr)\n",
    "library(lubridate)\n",
    "library(xts)\n",
    "\n",
    "KeepingYears = c(2004, 2005, 2006, 2007)\n",
    "TestingYears = c(2007)\n",
    "TestingWeeks = c(16, 28, 40, 52, 53)\n",
    "\n",
    "GEFComDfFile = \"GEFCom2012/complete.csv\"\n",
    "GEFComClasses = c('POSIXct', rep(\"numeric\", 32))\n",
    "\n",
    "df = read.csv(GEFComDfFile, stringsAsFactors=FALSE, colClasses=GEFComClasses)\n",
    "df = df %>% filter (year(df$DateTime) %in% KeepingYears) #only keep data within these years\n",
    "testing_idx = year(df$DateTime) %in% TestingYears #Satisfy the year\n",
    "testing_idx = testing_idx & (week(df$DateTime) %in% TestingWeeks) #Satisfy the week number\n",
    "\n",
    "df[testing_idx, !(colnames(df) %in% c(\"DateTime\", \"T01\")) ] = NA\n",
    "\n",
    "write.csv(df, \"GEFCom2012/training_set.csv\", row.names=FALSE)"
   ]
  },
  {
   "cell_type": "code",
   "execution_count": 71,
   "metadata": {
    "collapsed": false
   },
   "outputs": [
    {
     "name": "stdout",
     "output_type": "stream",
     "text": [
      "\n",
      " Module   :  strip \n",
      " Author   :  Tim Appelhans <tim.appelhans@gmail.com>, Thomas Nauss \n",
      " Version  :  2012-01-06 \n",
      " License  :  GNU GPLv3, see http://www.gnu.org/licenses/ \n"
     ]
    },
    {
     "data": {
      "text/html": [
       "<strong>png:</strong> 2"
      ],
      "text/latex": [
       "\\textbf{png:} 2"
      ],
      "text/markdown": [
       "**png:** 2"
      ],
      "text/plain": [
       "png \n",
       "  2 "
      ]
     },
     "metadata": {},
     "output_type": "display_data"
    }
   ],
   "source": [
    "#Visualize training data\n",
    "source(\"Lib/strip.R\")\n",
    "zone = \"zone.1\";\n",
    "pdf(paste0(zone, \"_trainingdata.pdf\"),width=7,height=5)\n",
    "strip(x = df[[zone]], \n",
    "  date = df$DateTime,\n",
    "  cond = year(df$DateTime),\n",
    "  arrange = \"wide\",\n",
    "  main = paste(\"Consumption\", zone))\n",
    "dev.off()"
   ]
  }
 ],
 "metadata": {
  "kernelspec": {
   "display_name": "R",
   "language": "R",
   "name": "ir"
  },
  "language_info": {
   "codemirror_mode": "r",
   "file_extension": ".r",
   "mimetype": "text/x-r-source",
   "name": "R",
   "pygments_lexer": "r",
   "version": "3.3.1"
  }
 },
 "nbformat": 4,
 "nbformat_minor": 1
}
