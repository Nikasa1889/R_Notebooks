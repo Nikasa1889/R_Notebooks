{
 "cells": [
  {
   "cell_type": "markdown",
   "metadata": {},
   "source": [
    "### Tidy the GEFCom2012 dataset\n",
    "From 3 file, load_raw.csv, n034_ensemble.csv and temp.csv create the complete.csv file. Use value from ensemble prediction to impute missing value in load_raw, and add temperature values from temp.csv to the final complete dataframe.\n",
    "\n",
    "#### Read data from csv file"
   ]
  },
  {
   "cell_type": "code",
   "execution_count": 1,
   "metadata": {
    "collapsed": false,
    "scrolled": true
   },
   "outputs": [
    {
     "name": "stderr",
     "output_type": "stream",
     "text": [
      "\n",
      "Attaching package: ‘dplyr’\n",
      "\n",
      "The following objects are masked from ‘package:stats’:\n",
      "\n",
      "    filter, lag\n",
      "\n",
      "The following objects are masked from ‘package:base’:\n",
      "\n",
      "    intersect, setdiff, setequal, union\n",
      "\n",
      "\n",
      "Attaching package: ‘lubridate’\n",
      "\n",
      "The following object is masked from ‘package:base’:\n",
      "\n",
      "    date\n",
      "\n"
     ]
    }
   ],
   "source": [
    "library(tidyr)\n",
    "library(dplyr)\n",
    "library(lubridate)\n",
    "\n",
    "loadRawFile = \"GEFCom2012/load_raw.csv\"\n",
    "tempRawFile = \"GEFCom2012/temp.csv\"\n",
    "ensemblePredictionFile = \"GEFCom2012/n034_ensemble.csv\"\n",
    "\n",
    "#Define a class num.with.commas to probably transform string with comma to number\n",
    "setClass(\"num.with.commas\")\n",
    "setAs(\"character\", \"num.with.commas\", \n",
    "        function(from) as.numeric(gsub(\",\", \"\", from) ) )\n",
    "\n",
    "loadRawClasses = c('factor', rep(\"numeric\", 3), rep(\"num.with.commas\", 24))\n",
    "\n",
    "df = read.csv(loadRawFile, stringsAsFactors=FALSE, colClasses=loadRawClasses)"
   ]
  },
  {
   "cell_type": "markdown",
   "metadata": {},
   "source": [
    "#### Tidy loadraw GEFCom2012 data"
   ]
  },
  {
   "cell_type": "code",
   "execution_count": 45,
   "metadata": {
    "collapsed": false
   },
   "outputs": [],
   "source": [
    "tidyLoadDf = df %>%  gather(Hour, Consumption, h1:h24) %>%\n",
    "                 mutate(Hour=as.numeric(substr(Hour, 2, nchar(Hour)))-1) %>%\n",
    "                 unite(Date, year, month, day, sep='-') %>%\n",
    "                 unite(DateTime, Date, Hour, sep=' ') %>%\n",
    "                 mutate(DateTime=as.POSIXct(strptime(DateTime, \"%Y-%m-%d %H\", tz = \"GMT\"))) %>%\n",
    "                 arrange(DateTime, zone_id)\n"
   ]
  },
  {
   "cell_type": "code",
   "execution_count": 46,
   "metadata": {
    "collapsed": false
   },
   "outputs": [],
   "source": [
    "#Spead consumption for each zone into seperate columns, so that we can easily select consumption for each zone later\n",
    "tidyLoadDf = tidyLoadDf %>% mutate(zone_id=paste0('zone.',as.character(zone_id))) %>%\n",
    "                      spread(zone_id, Consumption, fill = NA, convert = FALSE)\n",
    "#Remove 2008/June data, because it's not complete, Create Zone 21 as sum of 20 zones consumption\n",
    "tidyLoadDf = tidyLoadDf %>% filter(DateTime<as.POSIXct(strptime(\"2008-06-01 00:00:00\", \"%Y-%m-%d %H:%M:%S\")))\n",
    "#Add total consumption to zone.21\n",
    "tidyLoadDf %>% select(zone.1:zone.20) %>% rowSums(na.rm=TRUE) -> tidyLoadDf$zone.21"
   ]
  },
  {
   "cell_type": "markdown",
   "metadata": {},
   "source": [
    "#### Tidy ensemble prediction GEFCom2012 data"
   ]
  },
  {
   "cell_type": "code",
   "execution_count": 47,
   "metadata": {
    "collapsed": false
   },
   "outputs": [],
   "source": [
    "ensembleClasses = c('NULL', 'factor', rep(\"numeric\", 27))\n",
    "df = read.csv(ensemblePredictionFile, stringsAsFactors=FALSE, colClasses=ensembleClasses)\n",
    "tidyEnsembleDf = df %>%  gather(Hour, Consumption, h1:h24) %>%\n",
    "                 mutate(Hour=as.numeric(substr(Hour, 2, nchar(Hour)))-1) %>%\n",
    "                 unite(Date, year, month, day, sep='-') %>%\n",
    "                 unite(DateTime, Date, Hour, sep=' ') %>%\n",
    "                 mutate(DateTime=as.POSIXct(strptime(DateTime, \"%Y-%m-%d %H\", tz = \"GMT\"))) %>%\n",
    "                 arrange(DateTime) %>%\n",
    "                 mutate(zone_id=paste0('zone.',as.character(zone_id))) %>%\n",
    "                 spread(zone_id, Consumption, fill = NA, convert = FALSE) %>% #Remove forecast, only need backcast\n",
    "                 filter(DateTime<as.POSIXct(strptime(\"2008-06-01 00:00:00\", \"%Y-%m-%d %H:%M:%S\"))) "
   ]
  },
  {
   "cell_type": "code",
   "execution_count": 48,
   "metadata": {
    "collapsed": false
   },
   "outputs": [
    {
     "data": {
      "text/html": [
       "<table>\n",
       "<thead><tr><th></th><th scope=col>DateTime</th><th scope=col>zone.1</th><th scope=col>zone.10</th><th scope=col>zone.11</th><th scope=col>zone.12</th><th scope=col>zone.13</th><th scope=col>zone.14</th><th scope=col>zone.15</th><th scope=col>zone.16</th><th scope=col>zone.17</th><th scope=col>⋯</th><th scope=col>zone.2</th><th scope=col>zone.20</th><th scope=col>zone.21</th><th scope=col>zone.3</th><th scope=col>zone.4</th><th scope=col>zone.5</th><th scope=col>zone.6</th><th scope=col>zone.7</th><th scope=col>zone.8</th><th scope=col>zone.9</th></tr></thead>\n",
       "<tbody>\n",
       "\t<tr><th scope=row>1</th><td>2005-03-06 00:00:00</td><td>19756.92438        </td><td>25033.55209        </td><td>108900.2974        </td><td>142251.6476        </td><td>21516.8568         </td><td>26596.21596        </td><td>71789.48446        </td><td>36732.74398        </td><td>34992.32603        </td><td>⋯                  </td><td>162790.9138        </td><td>86742.34644        </td><td>1688940.02         </td><td>175816.4532        </td><td>520.9084838        </td><td>8531.423903        </td><td>170430.3393        </td><td>174995.3846        </td><td>3912.874937        </td><td>74119.88564        </td></tr>\n",
       "\t<tr><th scope=row>2</th><td>2005-03-06 01:00:00</td><td>19190.47556        </td><td>24668.02154        </td><td>106021.6968        </td><td>136612.7855        </td><td>20446.99222        </td><td>25126.27862        </td><td>69159.73713        </td><td>36428.806          </td><td>34019.84176        </td><td>⋯                  </td><td>158995.8665        </td><td>84037.83238        </td><td>1646134.78         </td><td>171222.157         </td><td>491.7589507        </td><td>8347.278861        </td><td>166499.321         </td><td>170768.0812        </td><td>3780.928646        </td><td>74147.88001        </td></tr>\n",
       "\t<tr><th scope=row>3</th><td>2005-03-06 02:00:00</td><td>19033.2229         </td><td>25671.84677        </td><td>105594.2289        </td><td>136727.4889        </td><td>20211.52637        </td><td>26064.59741        </td><td>68773.70794        </td><td>37027.72405        </td><td>34523.33393        </td><td>⋯                  </td><td>157209.9721        </td><td>82865.14351        </td><td>1646848.246        </td><td>169635.0138        </td><td>514.2643139        </td><td>8559.307027        </td><td>164707.9693        </td><td>169445.4386        </td><td>3711.041964        </td><td>74223.95562        </td></tr>\n",
       "\t<tr><th scope=row>4</th><td>2005-03-06 03:00:00</td><td>18264.1712         </td><td>22956.09595        </td><td>104902.7827        </td><td>135124.6118        </td><td>19725.97278        </td><td>25779.07654        </td><td>67874.85368        </td><td>37549.98063        </td><td>34748.92179        </td><td>⋯                  </td><td>160523.186         </td><td>83666.5785         </td><td>1652671.216        </td><td>172211.8922        </td><td>512.0860038        </td><td>8589.888315        </td><td>167755.0607        </td><td>171982.342         </td><td>3760.741114        </td><td>74794.81265        </td></tr>\n",
       "\t<tr><th scope=row>5</th><td>2005-03-06 04:00:00</td><td>19227.2306         </td><td>24502.99711        </td><td>106882.3142        </td><td>136965.6652        </td><td>20701.3017         </td><td>27536.20956        </td><td>70572.9317         </td><td>39177.83403        </td><td>36322.89992        </td><td>⋯                  </td><td>162036.4273        </td><td>85877.83067        </td><td>1691484.125        </td><td>173720.3804        </td><td>524.0947217        </td><td>8836.854655        </td><td>169769.799         </td><td>173911.4025        </td><td>3888.877775        </td><td>74706.91471        </td></tr>\n",
       "\t<tr><th scope=row>6</th><td>2005-03-06 05:00:00</td><td>20499.54784        </td><td>28668.18346        </td><td>108535.3251        </td><td>139322.3881        </td><td>20121.19484        </td><td>27922.97543        </td><td>70533.82922        </td><td>39917.93261        </td><td>37728.72405        </td><td>⋯                  </td><td>163818.1623        </td><td>83506.23914        </td><td>1715515.615        </td><td>176265.8241        </td><td>524.5492641        </td><td>9408.688655        </td><td>171226.1775        </td><td>175929.192         </td><td>3853.284123        </td><td>72029.79286        </td></tr>\n",
       "</tbody>\n",
       "</table>\n"
      ],
      "text/latex": [
       "\\begin{tabular}{r|llllllllllllllllllllll}\n",
       "  & DateTime & zone.1 & zone.10 & zone.11 & zone.12 & zone.13 & zone.14 & zone.15 & zone.16 & zone.17 & ⋯ & zone.2 & zone.20 & zone.21 & zone.3 & zone.4 & zone.5 & zone.6 & zone.7 & zone.8 & zone.9\\\\\n",
       "\\hline\n",
       "\t1 & 2005-03-06 00:00:00 & 19756.92438         & 25033.55209         & 108900.2974         & 142251.6476         & 21516.8568          & 26596.21596         & 71789.48446         & 36732.74398         & 34992.32603         & ⋯                   & 162790.9138         & 86742.34644         & 1688940.02          & 175816.4532         & 520.9084838         & 8531.423903         & 170430.3393         & 174995.3846         & 3912.874937         & 74119.88564        \\\\\n",
       "\t2 & 2005-03-06 01:00:00 & 19190.47556         & 24668.02154         & 106021.6968         & 136612.7855         & 20446.99222         & 25126.27862         & 69159.73713         & 36428.806           & 34019.84176         & ⋯                   & 158995.8665         & 84037.83238         & 1646134.78          & 171222.157          & 491.7589507         & 8347.278861         & 166499.321          & 170768.0812         & 3780.928646         & 74147.88001        \\\\\n",
       "\t3 & 2005-03-06 02:00:00 & 19033.2229          & 25671.84677         & 105594.2289         & 136727.4889         & 20211.52637         & 26064.59741         & 68773.70794         & 37027.72405         & 34523.33393         & ⋯                   & 157209.9721         & 82865.14351         & 1646848.246         & 169635.0138         & 514.2643139         & 8559.307027         & 164707.9693         & 169445.4386         & 3711.041964         & 74223.95562        \\\\\n",
       "\t4 & 2005-03-06 03:00:00 & 18264.1712          & 22956.09595         & 104902.7827         & 135124.6118         & 19725.97278         & 25779.07654         & 67874.85368         & 37549.98063         & 34748.92179         & ⋯                   & 160523.186          & 83666.5785          & 1652671.216         & 172211.8922         & 512.0860038         & 8589.888315         & 167755.0607         & 171982.342          & 3760.741114         & 74794.81265        \\\\\n",
       "\t5 & 2005-03-06 04:00:00 & 19227.2306          & 24502.99711         & 106882.3142         & 136965.6652         & 20701.3017          & 27536.20956         & 70572.9317          & 39177.83403         & 36322.89992         & ⋯                   & 162036.4273         & 85877.83067         & 1691484.125         & 173720.3804         & 524.0947217         & 8836.854655         & 169769.799          & 173911.4025         & 3888.877775         & 74706.91471        \\\\\n",
       "\t6 & 2005-03-06 05:00:00 & 20499.54784         & 28668.18346         & 108535.3251         & 139322.3881         & 20121.19484         & 27922.97543         & 70533.82922         & 39917.93261         & 37728.72405         & ⋯                   & 163818.1623         & 83506.23914         & 1715515.615         & 176265.8241         & 524.5492641         & 9408.688655         & 171226.1775         & 175929.192          & 3853.284123         & 72029.79286        \\\\\n",
       "\\end{tabular}\n"
      ],
      "text/plain": [
       "             DateTime   zone.1  zone.10  zone.11  zone.12  zone.13  zone.14\n",
       "1 2005-03-06 00:00:00 19756.92 25033.55 108900.3 142251.6 21516.86 26596.22\n",
       "2 2005-03-06 01:00:00 19190.48 24668.02 106021.7 136612.8 20446.99 25126.28\n",
       "3 2005-03-06 02:00:00 19033.22 25671.85 105594.2 136727.5 20211.53 26064.60\n",
       "4 2005-03-06 03:00:00 18264.17 22956.10 104902.8 135124.6 19725.97 25779.08\n",
       "5 2005-03-06 04:00:00 19227.23 24503.00 106882.3 136965.7 20701.30 27536.21\n",
       "6 2005-03-06 05:00:00 20499.55 28668.18 108535.3 139322.4 20121.19 27922.98\n",
       "   zone.15  zone.16  zone.17 ⋯   zone.2  zone.20 zone.21   zone.3   zone.4\n",
       "1 71789.48 36732.74 34992.33 ⋯ 162790.9 86742.35 1688940 175816.5 520.9085\n",
       "2 69159.74 36428.81 34019.84 ⋯ 158995.9 84037.83 1646135 171222.2 491.7590\n",
       "3 68773.71 37027.72 34523.33 ⋯ 157210.0 82865.14 1646848 169635.0 514.2643\n",
       "4 67874.85 37549.98 34748.92 ⋯ 160523.2 83666.58 1652671 172211.9 512.0860\n",
       "5 70572.93 39177.83 36322.90 ⋯ 162036.4 85877.83 1691484 173720.4 524.0947\n",
       "6 70533.83 39917.93 37728.72 ⋯ 163818.2 83506.24 1715516 176265.8 524.5493\n",
       "    zone.5   zone.6   zone.7   zone.8   zone.9\n",
       "1 8531.424 170430.3 174995.4 3912.875 74119.89\n",
       "2 8347.279 166499.3 170768.1 3780.929 74147.88\n",
       "3 8559.307 164708.0 169445.4 3711.042 74223.96\n",
       "4 8589.888 167755.1 171982.3 3760.741 74794.81\n",
       "5 8836.855 169769.8 173911.4 3888.878 74706.91\n",
       "6 9408.689 171226.2 175929.2 3853.284 72029.79"
      ]
     },
     "metadata": {},
     "output_type": "display_data"
    }
   ],
   "source": [
    "head(tidyEnsembleDf)"
   ]
  },
  {
   "cell_type": "markdown",
   "metadata": {},
   "source": [
    "#### Merge ensemble prediction to raw load data, and add temperature data"
   ]
  },
  {
   "cell_type": "code",
   "execution_count": 49,
   "metadata": {
    "collapsed": false
   },
   "outputs": [],
   "source": [
    "fullDf = tidyLoadDf\n",
    "fullDf[is.na(fullDf$zone.1), ] = tidyEnsembleDf[, names(fullDf)]"
   ]
  },
  {
   "cell_type": "code",
   "execution_count": 50,
   "metadata": {
    "collapsed": false
   },
   "outputs": [
    {
     "data": {},
     "metadata": {},
     "output_type": "display_data"
    }
   ],
   "source": [
    "tempClasses = c('POSIXct', rep(\"numeric\", 11))\n",
    "tempDf = read.csv(tempRawFile, stringsAsFactors=FALSE, colClasses=tempClasses)\n",
    "tempDf = tempDf %>% mutate(DateTime = DateTime - minutes(30))\n",
    "completeDf = left_join(fullDf, tempDf, by=\"DateTime\")\n",
    "#Check if there is any not complete case\n",
    "completeDf %>% filter(!complete.cases(.))"
   ]
  },
  {
   "cell_type": "code",
   "execution_count": 51,
   "metadata": {
    "collapsed": false
   },
   "outputs": [],
   "source": [
    "write.csv(completeDf, \"GEFCom2012/complete.csv\", row.names=FALSE)"
   ]
  },
  {
   "cell_type": "code",
   "execution_count": 52,
   "metadata": {
    "collapsed": false
   },
   "outputs": [
    {
     "data": {
      "text/html": [
       "<table>\n",
       "<thead><tr><th></th><th scope=col>DateTime</th><th scope=col>zone.1</th><th scope=col>zone.10</th><th scope=col>zone.11</th><th scope=col>zone.12</th><th scope=col>zone.13</th><th scope=col>zone.14</th><th scope=col>zone.15</th><th scope=col>zone.16</th><th scope=col>zone.17</th><th scope=col>⋯</th><th scope=col>T02</th><th scope=col>T03</th><th scope=col>T04</th><th scope=col>T05</th><th scope=col>T06</th><th scope=col>T07</th><th scope=col>T08</th><th scope=col>T09</th><th scope=col>T10</th><th scope=col>T11</th></tr></thead>\n",
       "<tbody>\n",
       "\t<tr><th scope=row>1</th><td>2004-01-01 00:00:00</td><td>16853              </td><td>23339              </td><td>90700              </td><td>118378             </td><td>20673              </td><td>21791              </td><td>65970              </td><td>28752              </td><td>30645              </td><td>⋯                  </td><td>38                 </td><td>44                 </td><td>45                 </td><td>42                 </td><td>44                 </td><td>45                 </td><td>43                 </td><td>41                 </td><td>42                 </td><td>36                 </td></tr>\n",
       "\t<tr><th scope=row>2</th><td>2004-01-01 01:00:00</td><td>16450              </td><td>22100              </td><td>86699              </td><td>112480             </td><td>19666              </td><td>21400              </td><td>64600              </td><td>27851              </td><td>30461              </td><td>⋯                  </td><td>36                 </td><td>42                 </td><td>43                 </td><td>42                 </td><td>43                 </td><td>44                 </td><td>44                 </td><td>39                 </td><td>43                 </td><td>32                 </td></tr>\n",
       "\t<tr><th scope=row>3</th><td>2004-01-01 02:00:00</td><td>16517              </td><td>21376              </td><td>84243              </td><td>108435             </td><td>19020              </td><td>20998              </td><td>63843              </td><td>27631              </td><td>30197              </td><td>⋯                  </td><td>35                 </td><td>40                 </td><td>41                 </td><td>40                 </td><td>42                 </td><td>41                 </td><td>42                 </td><td>36                 </td><td>43                 </td><td>31                 </td></tr>\n",
       "\t<tr><th scope=row>4</th><td>2004-01-01 03:00:00</td><td>16873              </td><td>21335              </td><td>84285              </td><td>107224             </td><td>18841              </td><td>21214              </td><td>64023              </td><td>27986              </td><td>30264              </td><td>⋯                  </td><td>30                 </td><td>36                 </td><td>37                 </td><td>39                 </td><td>38                 </td><td>40                 </td><td>34                 </td><td>35                 </td><td>39                 </td><td>30                 </td></tr>\n",
       "\t<tr><th scope=row>5</th><td>2004-01-01 04:00:00</td><td>17064              </td><td>21564              </td><td>86087              </td><td>108870             </td><td>19310              </td><td>21830              </td><td>65679              </td><td>29160              </td><td>30907              </td><td>⋯                  </td><td>30                 </td><td>34                 </td><td>33                 </td><td>40                 </td><td>38                 </td><td>35                 </td><td>30                 </td><td>33                 </td><td>35                 </td><td>34                 </td></tr>\n",
       "\t<tr><th scope=row>6</th><td>2004-01-01 05:00:00</td><td>17727              </td><td>22241              </td><td>90210              </td><td>112395             </td><td>19415              </td><td>21794              </td><td>63305              </td><td>29226              </td><td>31617              </td><td>⋯                  </td><td>29                 </td><td>32                 </td><td>32                 </td><td>41                 </td><td>37                 </td><td>35                 </td><td>35                 </td><td>36                 </td><td>35                 </td><td>35                 </td></tr>\n",
       "</tbody>\n",
       "</table>\n"
      ],
      "text/latex": [
       "\\begin{tabular}{r|lllllllllllllllllllllllllllllllll}\n",
       "  & DateTime & zone.1 & zone.10 & zone.11 & zone.12 & zone.13 & zone.14 & zone.15 & zone.16 & zone.17 & ⋯ & T02 & T03 & T04 & T05 & T06 & T07 & T08 & T09 & T10 & T11\\\\\n",
       "\\hline\n",
       "\t1 & 2004-01-01 00:00:00 & 16853               & 23339               & 90700               & 118378              & 20673               & 21791               & 65970               & 28752               & 30645               & ⋯                   & 38                  & 44                  & 45                  & 42                  & 44                  & 45                  & 43                  & 41                  & 42                  & 36                 \\\\\n",
       "\t2 & 2004-01-01 01:00:00 & 16450               & 22100               & 86699               & 112480              & 19666               & 21400               & 64600               & 27851               & 30461               & ⋯                   & 36                  & 42                  & 43                  & 42                  & 43                  & 44                  & 44                  & 39                  & 43                  & 32                 \\\\\n",
       "\t3 & 2004-01-01 02:00:00 & 16517               & 21376               & 84243               & 108435              & 19020               & 20998               & 63843               & 27631               & 30197               & ⋯                   & 35                  & 40                  & 41                  & 40                  & 42                  & 41                  & 42                  & 36                  & 43                  & 31                 \\\\\n",
       "\t4 & 2004-01-01 03:00:00 & 16873               & 21335               & 84285               & 107224              & 18841               & 21214               & 64023               & 27986               & 30264               & ⋯                   & 30                  & 36                  & 37                  & 39                  & 38                  & 40                  & 34                  & 35                  & 39                  & 30                 \\\\\n",
       "\t5 & 2004-01-01 04:00:00 & 17064               & 21564               & 86087               & 108870              & 19310               & 21830               & 65679               & 29160               & 30907               & ⋯                   & 30                  & 34                  & 33                  & 40                  & 38                  & 35                  & 30                  & 33                  & 35                  & 34                 \\\\\n",
       "\t6 & 2004-01-01 05:00:00 & 17727               & 22241               & 90210               & 112395              & 19415               & 21794               & 63305               & 29226               & 31617               & ⋯                   & 29                  & 32                  & 32                  & 41                  & 37                  & 35                  & 35                  & 36                  & 35                  & 35                 \\\\\n",
       "\\end{tabular}\n"
      ],
      "text/plain": [
       "             DateTime zone.1 zone.10 zone.11 zone.12 zone.13 zone.14 zone.15\n",
       "1 2004-01-01 00:00:00  16853   23339   90700  118378   20673   21791   65970\n",
       "2 2004-01-01 01:00:00  16450   22100   86699  112480   19666   21400   64600\n",
       "3 2004-01-01 02:00:00  16517   21376   84243  108435   19020   20998   63843\n",
       "4 2004-01-01 03:00:00  16873   21335   84285  107224   18841   21214   64023\n",
       "5 2004-01-01 04:00:00  17064   21564   86087  108870   19310   21830   65679\n",
       "6 2004-01-01 05:00:00  17727   22241   90210  112395   19415   21794   63305\n",
       "  zone.16 zone.17 ⋯ T02 T03 T04 T05 T06 T07 T08 T09 T10 T11\n",
       "1   28752   30645 ⋯  38  44  45  42  44  45  43  41  42  36\n",
       "2   27851   30461 ⋯  36  42  43  42  43  44  44  39  43  32\n",
       "3   27631   30197 ⋯  35  40  41  40  42  41  42  36  43  31\n",
       "4   27986   30264 ⋯  30  36  37  39  38  40  34  35  39  30\n",
       "5   29160   30907 ⋯  30  34  33  40  38  35  30  33  35  34\n",
       "6   29226   31617 ⋯  29  32  32  41  37  35  35  36  35  35"
      ]
     },
     "metadata": {},
     "output_type": "display_data"
    }
   ],
   "source": [
    "head(completeDf)"
   ]
  },
  {
   "cell_type": "code",
   "execution_count": null,
   "metadata": {
    "collapsed": true
   },
   "outputs": [],
   "source": []
  }
 ],
 "metadata": {
  "kernelspec": {
   "display_name": "R",
   "language": "R",
   "name": "ir"
  },
  "language_info": {
   "codemirror_mode": "r",
   "file_extension": ".r",
   "mimetype": "text/x-r-source",
   "name": "R",
   "pygments_lexer": "r",
   "version": "3.3.1"
  }
 },
 "nbformat": 4,
 "nbformat_minor": 1
}
