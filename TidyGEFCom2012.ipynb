{
 "cells": [
  {
   "cell_type": "markdown",
   "metadata": {},
   "source": [
    "### Tidy the GEFCom2012 dataset\n",
    "From 3 file, load_raw.csv, n034_ensemble.csv and temp.csv create the complete.csv file. Use value from ensemble prediction to impute missing value in load_raw, and add temperature values from temp.csv to the final complete dataframe.\n",
    "\n",
    "#### Read data from csv file"
   ]
  },
  {
   "cell_type": "code",
   "execution_count": 22,
   "metadata": {
    "collapsed": false,
    "scrolled": true
   },
   "outputs": [],
   "source": [
    "library(tidyr)\n",
    "library(dplyr)\n",
    "library(lubridate)\n",
    "\n",
    "loadRawFile = \"GEFCom2012/load_raw.csv\"\n",
    "tempRawFile = \"GEFCom2012/temp.csv\"\n",
    "ensemblePredictionFile = \"GEFCom2012/n034_ensemble.csv\"\n",
    "\n",
    "#Define a class num.with.commas to probably transform string with comma to number\n",
    "setClass(\"num.with.commas\")\n",
    "setAs(\"character\", \"num.with.commas\", \n",
    "        function(from) as.numeric(gsub(\",\", \"\", from) ) )\n",
    "\n",
    "loadRawClasses = c('factor', rep(\"numeric\", 3), rep(\"num.with.commas\", 24))\n",
    "\n",
    "df = read.csv(loadRawFile, stringsAsFactors=FALSE, colClasses=loadRawClasses)"
   ]
  },
  {
   "cell_type": "markdown",
   "metadata": {},
   "source": [
    "#### Tidy loadraw GEFCom2012 data"
   ]
  },
  {
   "cell_type": "code",
   "execution_count": 23,
   "metadata": {
    "collapsed": false
   },
   "outputs": [],
   "source": [
    "tidyLoadDf = df %>%  gather(Hour, Consumption, h1:h24) %>%\n",
    "                 mutate(Hour=as.numeric(substr(Hour, 2, nchar(Hour)))-1) %>%\n",
    "                 unite(Date, year, month, day, sep='-') %>%\n",
    "                 unite(DateTime, Date, Hour, sep=' ') %>%\n",
    "                 mutate(DateTime=as.POSIXct(strptime(DateTime, \"%Y-%m-%d %H\", tz = \"GMT\"))) %>%\n",
    "                 arrange(DateTime, zone_id)\n"
   ]
  },
  {
   "cell_type": "code",
   "execution_count": 24,
   "metadata": {
    "collapsed": false
   },
   "outputs": [],
   "source": [
    "#Spead consumption for each zone into seperate columns, so that we can easily select consumption for each zone later\n",
    "tidyLoadDf = tidyLoadDf %>% mutate(zone_id=paste0('zone.',as.character(zone_id))) %>%\n",
    "                      spread(zone_id, Consumption, fill = NA, convert = FALSE)\n",
    "#Remove 2008/June data, because it's not complete, Create Zone 21 as sum of 20 zones consumption\n",
    "tidyLoadDf = tidyLoadDf %>% filter(DateTime<as.POSIXct(strptime(\"2008-06-01 00:00:00\", \"%Y-%m-%d %H:%M:%S\")))\n",
    "#Add total consumption collumn\n",
    "tidyLoadDf %>% select(zone.1:zone.20) %>% rowSums(na.rm=TRUE) -> tidyLoadDf$total"
   ]
  },
  {
   "cell_type": "markdown",
   "metadata": {},
   "source": [
    "#### Tidy ensemble prediction GEFCom2012 data"
   ]
  },
  {
   "cell_type": "code",
   "execution_count": 25,
   "metadata": {
    "collapsed": false
   },
   "outputs": [],
   "source": [
    "ensembleClasses = c('NULL', 'factor', rep(\"numeric\", 27))\n",
    "df = read.csv(ensemblePredictionFile, stringsAsFactors=FALSE, colClasses=ensembleClasses)\n",
    "tidyEnsembleDf = df %>%  gather(Hour, Consumption, h1:h24) %>%\n",
    "                 mutate(Hour=as.numeric(substr(Hour, 2, nchar(Hour)))-1) %>%\n",
    "                 unite(Date, year, month, day, sep='-') %>%\n",
    "                 unite(DateTime, Date, Hour, sep=' ') %>%\n",
    "                 mutate(DateTime=as.POSIXct(strptime(DateTime, \"%Y-%m-%d %H\", tz = \"GMT\"))) %>%\n",
    "                 arrange(DateTime) %>%\n",
    "                 mutate(zone_id=paste0('zone.',as.character(zone_id))) %>%\n",
    "                 spread(zone_id, Consumption, fill = NA, convert = FALSE) %>% #Remove forecast, only need backcast\n",
    "                 filter(DateTime<as.POSIXct(strptime(\"2008-06-01 00:00:00\", \"%Y-%m-%d %H:%M:%S\"))) "
   ]
  },
  {
   "cell_type": "markdown",
   "metadata": {},
   "source": [
    "#### Merge ensemble prediction to raw load data, and add temperature data"
   ]
  },
  {
   "cell_type": "code",
   "execution_count": 26,
   "metadata": {
    "collapsed": false
   },
   "outputs": [],
   "source": [
    "fullDf = tidyLoadDf\n",
    "fullDf[is.na(fullDf$zone.1), ] = tidyEnsembleDf"
   ]
  },
  {
   "cell_type": "code",
   "execution_count": 27,
   "metadata": {
    "collapsed": false
   },
   "outputs": [
    {
     "data": {},
     "metadata": {},
     "output_type": "display_data"
    }
   ],
   "source": [
    "tempClasses = c('POSIXct', rep(\"numeric\", 11))\n",
    "tempDf = read.csv(tempRawFile, stringsAsFactors=FALSE, colClasses=tempClasses)\n",
    "tempDf = tempDf %>% mutate(DateTime = DateTime - minutes(30))\n",
    "completeDf = left_join(fullDf, tempDf, by=\"DateTime\")\n",
    "#Check if there is any not complete case\n",
    "completeDf %>% filter(!complete.cases(.))"
   ]
  },
  {
   "cell_type": "code",
   "execution_count": 28,
   "metadata": {
    "collapsed": false
   },
   "outputs": [],
   "source": [
    "write.csv(completeDf, \"GEFCom2012/complete.csv\", row.names=FALSE)"
   ]
  },
  {
   "cell_type": "code",
   "execution_count": 29,
   "metadata": {
    "collapsed": false
   },
   "outputs": [
    {
     "data": {
      "text/html": [
       "<table>\n",
       "<thead><tr><th></th><th scope=col>DateTime</th><th scope=col>zone.1</th><th scope=col>zone.10</th><th scope=col>zone.11</th><th scope=col>zone.12</th><th scope=col>zone.13</th><th scope=col>zone.14</th><th scope=col>zone.15</th><th scope=col>zone.16</th><th scope=col>zone.17</th><th scope=col>⋯</th><th scope=col>T02</th><th scope=col>T03</th><th scope=col>T04</th><th scope=col>T05</th><th scope=col>T06</th><th scope=col>T07</th><th scope=col>T08</th><th scope=col>T09</th><th scope=col>T10</th><th scope=col>T11</th></tr></thead>\n",
       "<tbody>\n",
       "\t<tr><th scope=row>1</th><td>2004-01-01 00:00:00</td><td>16853              </td><td>23339              </td><td>90700              </td><td>118378             </td><td>20673              </td><td>21791              </td><td>65970              </td><td>28752              </td><td>30645              </td><td>⋯                  </td><td>38                 </td><td>44                 </td><td>45                 </td><td>42                 </td><td>44                 </td><td>45                 </td><td>43                 </td><td>41                 </td><td>42                 </td><td>36                 </td></tr>\n",
       "\t<tr><th scope=row>2</th><td>2004-01-01 01:00:00</td><td>16450              </td><td>22100              </td><td>86699              </td><td>112480             </td><td>19666              </td><td>21400              </td><td>64600              </td><td>27851              </td><td>30461              </td><td>⋯                  </td><td>36                 </td><td>42                 </td><td>43                 </td><td>42                 </td><td>43                 </td><td>44                 </td><td>44                 </td><td>39                 </td><td>43                 </td><td>32                 </td></tr>\n",
       "\t<tr><th scope=row>3</th><td>2004-01-01 02:00:00</td><td>16517              </td><td>21376              </td><td>84243              </td><td>108435             </td><td>19020              </td><td>20998              </td><td>63843              </td><td>27631              </td><td>30197              </td><td>⋯                  </td><td>35                 </td><td>40                 </td><td>41                 </td><td>40                 </td><td>42                 </td><td>41                 </td><td>42                 </td><td>36                 </td><td>43                 </td><td>31                 </td></tr>\n",
       "\t<tr><th scope=row>4</th><td>2004-01-01 03:00:00</td><td>16873              </td><td>21335              </td><td>84285              </td><td>107224             </td><td>18841              </td><td>21214              </td><td>64023              </td><td>27986              </td><td>30264              </td><td>⋯                  </td><td>30                 </td><td>36                 </td><td>37                 </td><td>39                 </td><td>38                 </td><td>40                 </td><td>34                 </td><td>35                 </td><td>39                 </td><td>30                 </td></tr>\n",
       "\t<tr><th scope=row>5</th><td>2004-01-01 04:00:00</td><td>17064              </td><td>21564              </td><td>86087              </td><td>108870             </td><td>19310              </td><td>21830              </td><td>65679              </td><td>29160              </td><td>30907              </td><td>⋯                  </td><td>30                 </td><td>34                 </td><td>33                 </td><td>40                 </td><td>38                 </td><td>35                 </td><td>30                 </td><td>33                 </td><td>35                 </td><td>34                 </td></tr>\n",
       "\t<tr><th scope=row>6</th><td>2004-01-01 05:00:00</td><td>17727              </td><td>22241              </td><td>90210              </td><td>112395             </td><td>19415              </td><td>21794              </td><td>63305              </td><td>29226              </td><td>31617              </td><td>⋯                  </td><td>29                 </td><td>32                 </td><td>32                 </td><td>41                 </td><td>37                 </td><td>35                 </td><td>35                 </td><td>36                 </td><td>35                 </td><td>35                 </td></tr>\n",
       "</tbody>\n",
       "</table>\n"
      ],
      "text/latex": [
       "\\begin{tabular}{r|lllllllllllllllllllllllllllllllll}\n",
       "  & DateTime & zone.1 & zone.10 & zone.11 & zone.12 & zone.13 & zone.14 & zone.15 & zone.16 & zone.17 & ⋯ & T02 & T03 & T04 & T05 & T06 & T07 & T08 & T09 & T10 & T11\\\\\n",
       "\\hline\n",
       "\t1 & 2004-01-01 00:00:00 & 16853               & 23339               & 90700               & 118378              & 20673               & 21791               & 65970               & 28752               & 30645               & ⋯                   & 38                  & 44                  & 45                  & 42                  & 44                  & 45                  & 43                  & 41                  & 42                  & 36                 \\\\\n",
       "\t2 & 2004-01-01 01:00:00 & 16450               & 22100               & 86699               & 112480              & 19666               & 21400               & 64600               & 27851               & 30461               & ⋯                   & 36                  & 42                  & 43                  & 42                  & 43                  & 44                  & 44                  & 39                  & 43                  & 32                 \\\\\n",
       "\t3 & 2004-01-01 02:00:00 & 16517               & 21376               & 84243               & 108435              & 19020               & 20998               & 63843               & 27631               & 30197               & ⋯                   & 35                  & 40                  & 41                  & 40                  & 42                  & 41                  & 42                  & 36                  & 43                  & 31                 \\\\\n",
       "\t4 & 2004-01-01 03:00:00 & 16873               & 21335               & 84285               & 107224              & 18841               & 21214               & 64023               & 27986               & 30264               & ⋯                   & 30                  & 36                  & 37                  & 39                  & 38                  & 40                  & 34                  & 35                  & 39                  & 30                 \\\\\n",
       "\t5 & 2004-01-01 04:00:00 & 17064               & 21564               & 86087               & 108870              & 19310               & 21830               & 65679               & 29160               & 30907               & ⋯                   & 30                  & 34                  & 33                  & 40                  & 38                  & 35                  & 30                  & 33                  & 35                  & 34                 \\\\\n",
       "\t6 & 2004-01-01 05:00:00 & 17727               & 22241               & 90210               & 112395              & 19415               & 21794               & 63305               & 29226               & 31617               & ⋯                   & 29                  & 32                  & 32                  & 41                  & 37                  & 35                  & 35                  & 36                  & 35                  & 35                 \\\\\n",
       "\\end{tabular}\n"
      ],
      "text/plain": [
       "             DateTime zone.1 zone.10 zone.11 zone.12 zone.13 zone.14 zone.15\n",
       "1 2004-01-01 00:00:00  16853   23339   90700  118378   20673   21791   65970\n",
       "2 2004-01-01 01:00:00  16450   22100   86699  112480   19666   21400   64600\n",
       "3 2004-01-01 02:00:00  16517   21376   84243  108435   19020   20998   63843\n",
       "4 2004-01-01 03:00:00  16873   21335   84285  107224   18841   21214   64023\n",
       "5 2004-01-01 04:00:00  17064   21564   86087  108870   19310   21830   65679\n",
       "6 2004-01-01 05:00:00  17727   22241   90210  112395   19415   21794   63305\n",
       "  zone.16 zone.17 ⋯ T02 T03 T04 T05 T06 T07 T08 T09 T10 T11\n",
       "1   28752   30645 ⋯  38  44  45  42  44  45  43  41  42  36\n",
       "2   27851   30461 ⋯  36  42  43  42  43  44  44  39  43  32\n",
       "3   27631   30197 ⋯  35  40  41  40  42  41  42  36  43  31\n",
       "4   27986   30264 ⋯  30  36  37  39  38  40  34  35  39  30\n",
       "5   29160   30907 ⋯  30  34  33  40  38  35  30  33  35  34\n",
       "6   29226   31617 ⋯  29  32  32  41  37  35  35  36  35  35"
      ]
     },
     "metadata": {},
     "output_type": "display_data"
    }
   ],
   "source": [
    "head(completeDf)"
   ]
  },
  {
   "cell_type": "code",
   "execution_count": null,
   "metadata": {
    "collapsed": true
   },
   "outputs": [],
   "source": []
  }
 ],
 "metadata": {
  "kernelspec": {
   "display_name": "R",
   "language": "R",
   "name": "ir"
  },
  "language_info": {
   "codemirror_mode": "r",
   "file_extension": ".r",
   "mimetype": "text/x-r-source",
   "name": "R",
   "pygments_lexer": "r",
   "version": "3.3.1"
  }
 },
 "nbformat": 4,
 "nbformat_minor": 1
}
