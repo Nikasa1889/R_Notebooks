{
 "cells": [
  {
   "cell_type": "markdown",
   "metadata": {},
   "source": [
    "### Tidy the GEFCom2012 dataset\n",
    "From 3 file, load_raw.csv, n034_ensemble.csv and temp.csv create the complete.csv file. Use value from ensemble prediction to impute missing value in load_raw, and add temperature values from temp.csv to the final complete dataframe.\n",
    "\n",
    "#### Read data from csv file"
   ]
  },
  {
   "cell_type": "code",
   "execution_count": 1,
   "metadata": {
    "collapsed": false,
    "scrolled": true
   },
   "outputs": [
    {
     "name": "stderr",
     "output_type": "stream",
     "text": [
      "\n",
      "Attaching package: ‘dplyr’\n",
      "\n",
      "The following objects are masked from ‘package:stats’:\n",
      "\n",
      "    filter, lag\n",
      "\n",
      "The following objects are masked from ‘package:base’:\n",
      "\n",
      "    intersect, setdiff, setequal, union\n",
      "\n",
      "\n",
      "Attaching package: ‘lubridate’\n",
      "\n",
      "The following object is masked from ‘package:base’:\n",
      "\n",
      "    date\n",
      "\n"
     ]
    }
   ],
   "source": [
    "library(tidyr)\n",
    "library(dplyr)\n",
    "library(lubridate)\n",
    "\n",
    "loadRawFile = \"GEFCom2012/load_raw.csv\"\n",
    "tempRawFile = \"GEFCom2012/temp.csv\"\n",
    "ensemblePredictionFile = \"GEFCom2012/n034_ensemble.csv\"\n",
    "\n",
    "#Define a class num.with.commas to probably transform string with comma to number\n",
    "setClass(\"num.with.commas\")\n",
    "setAs(\"character\", \"num.with.commas\", \n",
    "        function(from) as.numeric(gsub(\",\", \"\", from) ) )\n",
    "\n",
    "loadRawClasses = c('factor', rep(\"numeric\", 3), rep(\"num.with.commas\", 24))\n",
    "\n",
    "df = read.csv(loadRawFile, stringsAsFactors=FALSE, colClasses=loadRawClasses)"
   ]
  },
  {
   "cell_type": "markdown",
   "metadata": {},
   "source": [
    "#### Tidy loadraw GEFCom2012 data"
   ]
  },
  {
   "cell_type": "code",
   "execution_count": 2,
   "metadata": {
    "collapsed": false
   },
   "outputs": [],
   "source": [
    "tidyLoadDf = df %>%  gather(Hour, Consumption, h1:h24) %>%\n",
    "                 mutate(Hour=as.numeric(substr(Hour, 2, nchar(Hour)))-1) %>%\n",
    "                 unite(Date, year, month, day, sep='-') %>%\n",
    "                 unite(DateTime, Date, Hour, sep=' ') %>%\n",
    "                 mutate(DateTime=as.POSIXct(strptime(DateTime, \"%Y-%m-%d %H\", tz = \"GMT\"))) %>%\n",
    "                 arrange(DateTime, zone_id)\n"
   ]
  },
  {
   "cell_type": "code",
   "execution_count": 3,
   "metadata": {
    "collapsed": false
   },
   "outputs": [],
   "source": [
    "#Spead consumption for each zone into seperate columns, so that we can easily select consumption for each zone later\n",
    "tidyLoadDf = tidyLoadDf %>% mutate(zone_id=paste0('zone.',as.character(zone_id))) %>%\n",
    "                      spread(zone_id, Consumption, fill = NA, convert = FALSE)\n",
    "#Remove 2008/June data, because it's not complete, Create Zone 21 as sum of 20 zones consumption\n",
    "tidyLoadDf = tidyLoadDf %>% filter(DateTime<as.POSIXct(strptime(\"2008-06-01 00:00:00\", \"%Y-%m-%d %H:%M:%S\")))\n",
    "#Add total consumption collumn\n",
    "tidyLoadDf %>% select(zone.1:zone.20) %>% rowSums(na.rm=TRUE) -> tidyLoadDf$total"
   ]
  },
  {
   "cell_type": "markdown",
   "metadata": {},
   "source": [
    "#### Tidy ensemble prediction GEFCom2012 data"
   ]
  },
  {
   "cell_type": "code",
   "execution_count": 4,
   "metadata": {
    "collapsed": false
   },
   "outputs": [],
   "source": [
    "ensembleClasses = c('NULL', 'factor', rep(\"numeric\", 27))\n",
    "df = read.csv(ensemblePredictionFile, stringsAsFactors=FALSE, colClasses=ensembleClasses)\n",
    "tidyEnsembleDf = df %>%  gather(Hour, Consumption, h1:h24) %>%\n",
    "                 mutate(Hour=as.numeric(substr(Hour, 2, nchar(Hour)))-1) %>%\n",
    "                 unite(Date, year, month, day, sep='-') %>%\n",
    "                 unite(DateTime, Date, Hour, sep=' ') %>%\n",
    "                 mutate(DateTime=as.POSIXct(strptime(DateTime, \"%Y-%m-%d %H\", tz = \"GMT\"))) %>%\n",
    "                 arrange(DateTime) %>%\n",
    "                 mutate(zone_id=paste0('zone.',as.character(zone_id))) %>%\n",
    "                 spread(zone_id, Consumption, fill = NA, convert = FALSE) %>% #Remove forecast, only need backcast\n",
    "                 filter(DateTime<as.POSIXct(strptime(\"2008-06-01 00:00:00\", \"%Y-%m-%d %H:%M:%S\"))) "
   ]
  },
  {
   "cell_type": "markdown",
   "metadata": {},
   "source": [
    "#### Merge ensemble prediction to raw load data, and add temperature data"
   ]
  },
  {
   "cell_type": "code",
   "execution_count": 5,
   "metadata": {
    "collapsed": false
   },
   "outputs": [],
   "source": [
    "fullDf = tidyLoadDf\n",
    "fullDf[is.na(fullDf$zone.1), ] = tidyEnsembleDf"
   ]
  },
  {
   "cell_type": "code",
   "execution_count": 7,
   "metadata": {
    "collapsed": false
   },
   "outputs": [],
   "source": [
    "tempClasses = c('POSIXct', rep(\"numeric\", 11))\n",
    "tempDf = read.csv(tempRawFile, stringsAsFactors=FALSE, colClasses=tempClasses)\n",
    "tempDf = tempDf %>% mutate(DateTime = DateTime - minutes(30))\n",
    "completeDf = left_join(fullDf, tempDf, by=\"DateTime\")\n",
    "#Check if there is any not complete case\n",
    "completeDf %>% filter(!complete.cases(.))"
   ]
  },
  {
   "cell_type": "code",
   "execution_count": 13,
   "metadata": {
    "collapsed": false
   },
   "outputs": [],
   "source": [
    "write.csv(completeDf, \"GEFCom2012/complete.csv\")"
   ]
  },
  {
   "cell_type": "code",
   "execution_count": 9,
   "metadata": {
    "collapsed": false
   },
   "outputs": [
    {
     "data": {},
     "metadata": {},
     "output_type": "display_data"
    }
   ],
   "source": [
    "completeDf %>% filter(is.na(T01))"
   ]
  },
  {
   "cell_type": "code",
   "execution_count": 10,
   "metadata": {
    "collapsed": false
   },
   "outputs": [
    {
     "data": {},
     "metadata": {},
     "output_type": "display_data"
    }
   ],
   "source": []
  },
  {
   "cell_type": "code",
   "execution_count": null,
   "metadata": {
    "collapsed": true
   },
   "outputs": [],
   "source": []
  }
 ],
 "metadata": {
  "kernelspec": {
   "display_name": "R",
   "language": "R",
   "name": "ir"
  },
  "language_info": {
   "codemirror_mode": "r",
   "file_extension": ".r",
   "mimetype": "text/x-r-source",
   "name": "R",
   "pygments_lexer": "r",
   "version": "3.3.1"
  }
 },
 "nbformat": 4,
 "nbformat_minor": 1
}
