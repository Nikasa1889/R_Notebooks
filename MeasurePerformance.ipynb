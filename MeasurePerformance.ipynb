{
 "cells": [
  {
   "cell_type": "markdown",
   "metadata": {},
   "source": [
    "### Measure and Report all prediction stored in csv files with approriate name\n",
    "\n",
    "All csv file with the name format \"method_name_horizon_n.csv\" will be tested. Without the horizon, the measurement will be reported for all horizon.\n",
    "\n",
    "Read GenerateReport.R for more information"
   ]
  },
  {
   "cell_type": "code",
   "execution_count": null,
   "metadata": {
    "collapsed": false,
    "scrolled": true
   },
   "outputs": [],
   "source": [
    "library(tidyr)\n",
    "library(dplyr)\n",
    "library(lubridate)\n",
    "source(\"GenerateReport.R\")\n",
    "\n",
    "\n",
    "HvalerDir = \"Hvaler/\"\n",
    "HvalerPredictionDir = \"Hvaler/Predictions/\"\n",
    "HvalerCompleteFile = \"Hvaler/imputed_complete.csv\"\n",
    "HvalerTrainingFile = \"Hvaler/training_set.csv\"\n",
    "\n",
    "HvalerClasses = c('POSIXct', rep(\"numeric\", 21))\n",
    "HvalerZones = paste0(\"subs.\", seq(1, 20))\n",
    "\n",
    "GEFCom2012Dir = \"GEFCom2012/\"\n",
    "GEFCom2012PredictionDir = \"GEFCom2012/Predictions/\"\n",
    "GEFCom2012CompleteFile = \"GEFCom2012/complete.csv\"\n",
    "GEFCom2012TrainingFile = \"GEFCom2012/training_set.csv\"\n",
    "GEFCom2012Classes = c('POSIXct', rep(\"numeric\", 32))\n",
    "GEFComZones = paste0(\"zone.\", seq(1, 20))"
   ]
  },
  {
   "cell_type": "code",
   "execution_count": null,
   "metadata": {
    "collapsed": false
   },
   "outputs": [],
   "source": [
    "#Measure for Hvaler\n",
    "completeDf = read.csv(HvalerCompleteFile, stringsAsFactors=FALSE, colClasses=HvalerClasses)\n",
    "trainingDf = read.csv(HvalerTrainingFile, stringsAsFactors=FALSE, colClasses=HvalerClasses)\n",
    "generateReport(completeDf, trainingDf, HvalerDir, HvalerPredictionDir, HvalerZones, HvalerClasses)"
   ]
  },
  {
   "cell_type": "code",
   "execution_count": null,
   "metadata": {
    "collapsed": false
   },
   "outputs": [],
   "source": [
    "#Measure for GEFCom2012\n",
    "completeDf = read.csv(GEFCom2012CompleteFile, stringsAsFactors=FALSE, colClasses=GEFCom2012Classes)\n",
    "trainingDf = read.csv(GEFCom2012TrainingFile, stringsAsFactors=FALSE, colClasses=GEFCom2012Classes)\n",
    "generateReport(completeDf, trainingDf, GEFCom2012Dir, GEFCom2012PredictionDir, GEFComZones, GEFCom2012Classes)"
   ]
  }
 ],
 "metadata": {
  "kernelspec": {
   "display_name": "R",
   "language": "R",
   "name": "ir"
  },
  "language_info": {
   "codemirror_mode": "r",
   "file_extension": ".r",
   "mimetype": "text/x-r-source",
   "name": "R",
   "pygments_lexer": "r",
   "version": "3.3.1"
  }
 },
 "nbformat": 4,
 "nbformat_minor": 1
}
