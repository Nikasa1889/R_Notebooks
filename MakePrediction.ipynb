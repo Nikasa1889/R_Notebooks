{
 "cells": [
  {
   "cell_type": "markdown",
   "metadata": {},
   "source": [
    "### This file call all predicting methods on GEF2012Com and Hvaler\n",
    "Use MeasurePerformance.ipynb file to measure performance of produced prediction"
   ]
  },
  {
   "cell_type": "code",
   "execution_count": 40,
   "metadata": {
    "collapsed": false,
    "scrolled": true
   },
   "outputs": [],
   "source": [
    "library(tidyr)\n",
    "library(dplyr)\n",
    "library(lubridate)\n",
    "library(xts)\n",
    "library(\"doParallel\")\n",
    "library(\"foreach\")\n",
    "source(\"Lib/PredictRandomForest.R\")\n",
    "source(\"Lib/PredictDSHW.R\")\n",
    "source(\"Lib/PredictSemiParametricArima.R\")\n",
    "source(\"Lib/PredictTBATS.R\")\n",
    "source(\"Lib/PredictAverageARIMABaseline.R\")"
   ]
  },
  {
   "cell_type": "code",
   "execution_count": 41,
   "metadata": {
    "collapsed": true
   },
   "outputs": [],
   "source": [
    "#Predict for Hvaler\n",
    "HvalerTrainingFile = \"Hvaler/training_set.csv\"\n",
    "HvalerCompleteFile = \"Hvaler/imputed_complete.csv\"\n",
    "OutputDir = \"Hvaler/Predictions/\"\n",
    "HvalerClasses = c('POSIXct', rep(\"numeric\", 21))\n",
    "NCores = 8\n",
    "Zones = paste0(\"subs.\", seq(1, 20))#Only test 1 zone now\n",
    "Temperatures = c(\"T01\")\n",
    "Horizons = seq(1, 24)\n",
    "trainingDf = read.csv(HvalerTrainingFile, stringsAsFactors=FALSE, colClasses=HvalerClasses)\n",
    "completeDf = read.csv(HvalerCompleteFile, stringsAsFactors=FALSE, colClasses=HvalerClasses)\n"
   ]
  },
  {
   "cell_type": "code",
   "execution_count": null,
   "metadata": {
    "collapsed": false
   },
   "outputs": [],
   "source": [
    "predictAverageARIMABaselineParallel(OutputDir, trainingDf, completeDf, Zones, Horizons, plotResult = FALSE)"
   ]
  },
  {
   "cell_type": "code",
   "execution_count": null,
   "metadata": {
    "collapsed": false
   },
   "outputs": [],
   "source": [
    "#BE CAREFUL: This will take several hours!\n",
    "predictRandomForestParallel(OutputDir, trainingDf, completeDf, Zones, Temperatures, Horizons, nDataPoints = -1, plotResult = FALSE)"
   ]
  },
  {
   "cell_type": "code",
   "execution_count": null,
   "metadata": {
    "collapsed": false
   },
   "outputs": [],
   "source": [
    "#This will also take a lot of time\n",
    "registerDoParallel(NCores)\n",
    "x = foreach(Zones = Zones, .combine=c) %dopar% \n",
    "    predictDSHW(OutputDir, trainingDf, completeDf, Zones, Horizons, modifiedDSHW=FALSE, plotResult = FALSE)\n",
    "stopImplicitCluster()"
   ]
  },
  {
   "cell_type": "code",
   "execution_count": null,
   "metadata": {
    "collapsed": false
   },
   "outputs": [],
   "source": [
    "#This will also take a lot of time\n",
    "predictDSHWParallel(OutputDir, trainingDf, completeDf, Zones, Horizons, modifiedDSHW=TRUE, plotResult = FALSE)"
   ]
  },
  {
   "cell_type": "code",
   "execution_count": null,
   "metadata": {
    "collapsed": false
   },
   "outputs": [],
   "source": [
    "#This will also take a lot of time\n",
    "predictSemiParametricArimaParallel(OutputDir, trainingDf, completeDf, Zones, Temperatures, Horizons, plotResult = FALSE)"
   ]
  },
  {
   "cell_type": "code",
   "execution_count": null,
   "metadata": {
    "collapsed": false
   },
   "outputs": [],
   "source": [
    "#This will also take a lot of time\n",
    "predictTBATSParallel(OutputDir, trainingDf, completeDf, Zones, Horizons, plotResult = FALSE)"
   ]
  },
  {
   "cell_type": "code",
   "execution_count": null,
   "metadata": {
    "collapsed": false
   },
   "outputs": [],
   "source": [
    "#Predict for GEFCom2012\n",
    "GEFCom2012TrainingFile = \"GEFCom2012/training_set.csv\"\n",
    "GEFCom2012CompleteFile = \"GEFCom2012/complete.csv\"\n",
    "OutputDir = \"GEFCom2012/Predictions/\"\n",
    "GEFCom2012Classes = c('POSIXct', rep(\"numeric\", 32))\n",
    "Zones = paste0(\"zone.\", seq(1, 20))\n",
    "Temperatures = c(\"T01\",\"T02\",\"T03\",\"T04\",\"T05\",\"T06\",\"T07\",\"T08\",\"T09\",\"T10\",\"T11\")\n",
    "Horizons = seq(1, 24)\n",
    "trainingDf = read.csv(GEFCom2012TrainingFile, stringsAsFactors=FALSE, colClasses=GEFCom2012Classes)\n",
    "completeDf = read.csv(GEFCom2012CompleteFile, stringsAsFactors=FALSE, colClasses=GEFCom2012Classes)"
   ]
  },
  {
   "cell_type": "code",
   "execution_count": null,
   "metadata": {
    "collapsed": true
   },
   "outputs": [],
   "source": [
    "predictAverageARIMABaselineParallel(OutputDir, trainingDf, completeDf, Zones, Horizons, PlotResult = FALSE)"
   ]
  },
  {
   "cell_type": "code",
   "execution_count": null,
   "metadata": {
    "collapsed": true
   },
   "outputs": [],
   "source": [
    "#This will take several hours!\n",
    "predictRandomForestParallel(OutputDir, trainingDf, completeDf, Zones, Temperatures, Horizons, nDataPoints = -1, plotResult = FALSE)"
   ]
  },
  {
   "cell_type": "code",
   "execution_count": null,
   "metadata": {
    "collapsed": true
   },
   "outputs": [],
   "source": [
    "predictDSHWParallel(OutputDir, trainingDf, completeDf, Zones, Horizons, modifiedDSHW=FALSE, plotResult = FALSE)"
   ]
  },
  {
   "cell_type": "code",
   "execution_count": null,
   "metadata": {
    "collapsed": true
   },
   "outputs": [],
   "source": [
    "predictDSHWParallel(OutputDir, trainingDf, completeDf, Zones, Horizons, modifiedDSHW=TRUE, plotResult = FALSE)"
   ]
  },
  {
   "cell_type": "code",
   "execution_count": null,
   "metadata": {
    "collapsed": false
   },
   "outputs": [],
   "source": [
    "predictSemiParametricArimaParallel(OutputDir, trainingDf, completeDf, Zones, Temperatures, Horizons, plotResult = FALSE)"
   ]
  },
  {
   "cell_type": "code",
   "execution_count": null,
   "metadata": {
    "collapsed": false
   },
   "outputs": [],
   "source": [
    "predictTBATSParallel(OutputDir, trainingDf, completeDf, Zones, Horizons, plotResult = FALSE)"
   ]
  },
  {
   "cell_type": "code",
   "execution_count": null,
   "metadata": {
    "collapsed": false
   },
   "outputs": [],
   "source": [
    "install.packages(\"ranger\")"
   ]
  },
  {
   "cell_type": "code",
   "execution_count": null,
   "metadata": {
    "collapsed": false
   },
   "outputs": [],
   "source": [
    "install.packages(\"bbemkr\")"
   ]
  },
  {
   "cell_type": "code",
   "execution_count": null,
   "metadata": {
    "collapsed": false
   },
   "outputs": [],
   "source": [
    "install.packages(\"doParallel\")\n",
    "install.packages(\"foreach\")"
   ]
  },
  {
   "cell_type": "code",
   "execution_count": 8,
   "metadata": {
    "collapsed": true
   },
   "outputs": [],
   "source": [
    "x = left_join(trainingDf, completeDf, by=\"DateTime\")"
   ]
  },
  {
   "cell_type": "code",
   "execution_count": 10,
   "metadata": {
    "collapsed": true
   },
   "outputs": [],
   "source": [
    "x = trainingDf"
   ]
  },
  {
   "cell_type": "code",
   "execution_count": 20,
   "metadata": {
    "collapsed": false
   },
   "outputs": [],
   "source": [
    "zones = paste0(\"subs.\", seq(1, 20))\n",
    "for (zone in zones){\n",
    "    x[[zone]] = ifelse(!is.na(trainingDf[[zone]]), trainingDf[[zone]], completeDf[[zone]])\n",
    "}"
   ]
  },
  {
   "cell_type": "code",
   "execution_count": 21,
   "metadata": {
    "collapsed": false
   },
   "outputs": [
    {
     "data": {
      "text/html": [
       "0"
      ],
      "text/latex": [
       "0"
      ],
      "text/markdown": [
       "0"
      ],
      "text/plain": [
       "[1] 0"
      ]
     },
     "metadata": {},
     "output_type": "display_data"
    }
   ],
   "source": [
    "sum(!complete.cases(x))"
   ]
  },
  {
   "cell_type": "code",
   "execution_count": 18,
   "metadata": {
    "collapsed": false
   },
   "outputs": [
    {
     "data": {
      "text/html": [
       "<table>\n",
       "<thead><tr><th></th><th scope=col>DateTime</th><th scope=col>subs.1</th><th scope=col>subs.2</th><th scope=col>subs.3</th><th scope=col>subs.4</th><th scope=col>subs.5</th><th scope=col>subs.6</th><th scope=col>subs.7</th><th scope=col>subs.8</th><th scope=col>subs.9</th><th scope=col>⋯</th><th scope=col>subs.12</th><th scope=col>subs.13</th><th scope=col>subs.14</th><th scope=col>subs.15</th><th scope=col>subs.16</th><th scope=col>subs.17</th><th scope=col>subs.18</th><th scope=col>subs.19</th><th scope=col>subs.20</th><th scope=col>T01</th></tr></thead>\n",
       "<tbody>\n",
       "\t<tr><th scope=row>11305</th><td>2013-04-16 00:00:00</td><td>203.110000222921   </td><td>NA                 </td><td>NA                 </td><td>NA                 </td><td>NA                 </td><td>NA                 </td><td>NA                 </td><td>NA                 </td><td>NA                 </td><td>⋯                  </td><td>NA                 </td><td>NA                 </td><td>NA                 </td><td>NA                 </td><td>NA                 </td><td>NA                 </td><td>NA                 </td><td>NA                 </td><td>NA                 </td><td>40.1               </td></tr>\n",
       "\t<tr><th scope=row>11306</th><td>2013-04-16 01:00:00</td><td>206.179999148473   </td><td>NA                 </td><td>NA                 </td><td>NA                 </td><td>NA                 </td><td>NA                 </td><td>NA                 </td><td>NA                 </td><td>NA                 </td><td>⋯                  </td><td>NA                 </td><td>NA                 </td><td>NA                 </td><td>NA                 </td><td>NA                 </td><td>NA                 </td><td>NA                 </td><td>NA                 </td><td>NA                 </td><td>40.28              </td></tr>\n",
       "\t<tr><th scope=row>11307</th><td>2013-04-16 02:00:00</td><td>201.460000077263   </td><td>NA                 </td><td>NA                 </td><td>NA                 </td><td>NA                 </td><td>NA                 </td><td>NA                 </td><td>NA                 </td><td>NA                 </td><td>⋯                  </td><td>NA                 </td><td>NA                 </td><td>NA                 </td><td>NA                 </td><td>NA                 </td><td>NA                 </td><td>NA                 </td><td>NA                 </td><td>NA                 </td><td>39.92              </td></tr>\n",
       "\t<tr><th scope=row>11308</th><td>2013-04-16 03:00:00</td><td>204.359999302775   </td><td>NA                 </td><td>NA                 </td><td>NA                 </td><td>NA                 </td><td>NA                 </td><td>NA                 </td><td>NA                 </td><td>NA                 </td><td>⋯                  </td><td>NA                 </td><td>NA                 </td><td>NA                 </td><td>NA                 </td><td>NA                 </td><td>NA                 </td><td>NA                 </td><td>NA                 </td><td>NA                 </td><td>40.28              </td></tr>\n",
       "\t<tr><th scope=row>11309</th><td>2013-04-16 04:00:00</td><td>203.52000034973    </td><td>NA                 </td><td>NA                 </td><td>NA                 </td><td>NA                 </td><td>NA                 </td><td>NA                 </td><td>NA                 </td><td>NA                 </td><td>⋯                  </td><td>NA                 </td><td>NA                 </td><td>NA                 </td><td>NA                 </td><td>NA                 </td><td>NA                 </td><td>NA                 </td><td>NA                 </td><td>NA                 </td><td>40.1               </td></tr>\n",
       "\t<tr><th scope=row>11310</th><td>2013-04-16 05:00:00</td><td>234.179999619722   </td><td>NA                 </td><td>NA                 </td><td>NA                 </td><td>NA                 </td><td>NA                 </td><td>NA                 </td><td>NA                 </td><td>NA                 </td><td>⋯                  </td><td>NA                 </td><td>NA                 </td><td>NA                 </td><td>NA                 </td><td>NA                 </td><td>NA                 </td><td>NA                 </td><td>NA                 </td><td>NA                 </td><td>40.1               </td></tr>\n",
       "</tbody>\n",
       "</table>\n"
      ],
      "text/latex": [
       "\\begin{tabular}{r|llllllllllllllllllllll}\n",
       "  & DateTime & subs.1 & subs.2 & subs.3 & subs.4 & subs.5 & subs.6 & subs.7 & subs.8 & subs.9 & ⋯ & subs.12 & subs.13 & subs.14 & subs.15 & subs.16 & subs.17 & subs.18 & subs.19 & subs.20 & T01\\\\\n",
       "\\hline\n",
       "\t11305 & 2013-04-16 00:00:00 & 203.110000222921    & NA                  & NA                  & NA                  & NA                  & NA                  & NA                  & NA                  & NA                  & ⋯                   & NA                  & NA                  & NA                  & NA                  & NA                  & NA                  & NA                  & NA                  & NA                  & 40.1               \\\\\n",
       "\t11306 & 2013-04-16 01:00:00 & 206.179999148473    & NA                  & NA                  & NA                  & NA                  & NA                  & NA                  & NA                  & NA                  & ⋯                   & NA                  & NA                  & NA                  & NA                  & NA                  & NA                  & NA                  & NA                  & NA                  & 40.28              \\\\\n",
       "\t11307 & 2013-04-16 02:00:00 & 201.460000077263    & NA                  & NA                  & NA                  & NA                  & NA                  & NA                  & NA                  & NA                  & ⋯                   & NA                  & NA                  & NA                  & NA                  & NA                  & NA                  & NA                  & NA                  & NA                  & 39.92              \\\\\n",
       "\t11308 & 2013-04-16 03:00:00 & 204.359999302775    & NA                  & NA                  & NA                  & NA                  & NA                  & NA                  & NA                  & NA                  & ⋯                   & NA                  & NA                  & NA                  & NA                  & NA                  & NA                  & NA                  & NA                  & NA                  & 40.28              \\\\\n",
       "\t11309 & 2013-04-16 04:00:00 & 203.52000034973     & NA                  & NA                  & NA                  & NA                  & NA                  & NA                  & NA                  & NA                  & ⋯                   & NA                  & NA                  & NA                  & NA                  & NA                  & NA                  & NA                  & NA                  & NA                  & 40.1               \\\\\n",
       "\t11310 & 2013-04-16 05:00:00 & 234.179999619722    & NA                  & NA                  & NA                  & NA                  & NA                  & NA                  & NA                  & NA                  & ⋯                   & NA                  & NA                  & NA                  & NA                  & NA                  & NA                  & NA                  & NA                  & NA                  & 40.1               \\\\\n",
       "\\end{tabular}\n"
      ],
      "text/plain": [
       "                 DateTime subs.1 subs.2 subs.3 subs.4 subs.5 subs.6 subs.7\n",
       "11305 2013-04-16 00:00:00 203.11     NA     NA     NA     NA     NA     NA\n",
       "11306 2013-04-16 01:00:00 206.18     NA     NA     NA     NA     NA     NA\n",
       "11307 2013-04-16 02:00:00 201.46     NA     NA     NA     NA     NA     NA\n",
       "11308 2013-04-16 03:00:00 204.36     NA     NA     NA     NA     NA     NA\n",
       "11309 2013-04-16 04:00:00 203.52     NA     NA     NA     NA     NA     NA\n",
       "11310 2013-04-16 05:00:00 234.18     NA     NA     NA     NA     NA     NA\n",
       "      subs.8 subs.9 ⋯ subs.12 subs.13 subs.14 subs.15 subs.16 subs.17 subs.18\n",
       "11305     NA     NA ⋯      NA      NA      NA      NA      NA      NA      NA\n",
       "11306     NA     NA ⋯      NA      NA      NA      NA      NA      NA      NA\n",
       "11307     NA     NA ⋯      NA      NA      NA      NA      NA      NA      NA\n",
       "11308     NA     NA ⋯      NA      NA      NA      NA      NA      NA      NA\n",
       "11309     NA     NA ⋯      NA      NA      NA      NA      NA      NA      NA\n",
       "11310     NA     NA ⋯      NA      NA      NA      NA      NA      NA      NA\n",
       "      subs.19 subs.20   T01\n",
       "11305      NA      NA 40.10\n",
       "11306      NA      NA 40.28\n",
       "11307      NA      NA 39.92\n",
       "11308      NA      NA 40.28\n",
       "11309      NA      NA 40.10\n",
       "11310      NA      NA 40.10"
      ]
     },
     "metadata": {},
     "output_type": "display_data"
    }
   ],
   "source": [
    "head(x[is.na(x[['subs.2']]), ])"
   ]
  },
  {
   "cell_type": "code",
   "execution_count": 19,
   "metadata": {
    "collapsed": false
   },
   "outputs": [
    {
     "data": {
      "text/html": [
       "<ol class=list-inline>\n",
       "\t<li>'subs.1'</li>\n",
       "\t<li>'subs.1'</li>\n",
       "\t<li>'subs.1'</li>\n",
       "\t<li>'subs.1'</li>\n",
       "\t<li>'subs.1'</li>\n",
       "\t<li>'subs.1'</li>\n",
       "\t<li>'subs.1'</li>\n",
       "\t<li>'subs.1'</li>\n",
       "\t<li>'subs.1'</li>\n",
       "\t<li>'subs.1'</li>\n",
       "\t<li>'subs.1'</li>\n",
       "\t<li>'subs.1'</li>\n",
       "\t<li>'subs.1'</li>\n",
       "\t<li>'subs.1'</li>\n",
       "\t<li>'subs.1'</li>\n",
       "\t<li>'subs.1'</li>\n",
       "\t<li>'subs.1'</li>\n",
       "\t<li>'subs.1'</li>\n",
       "\t<li>'subs.1'</li>\n",
       "\t<li>'subs.1'</li>\n",
       "</ol>\n"
      ],
      "text/latex": [
       "\\begin{enumerate*}\n",
       "\\item 'subs.1'\n",
       "\\item 'subs.1'\n",
       "\\item 'subs.1'\n",
       "\\item 'subs.1'\n",
       "\\item 'subs.1'\n",
       "\\item 'subs.1'\n",
       "\\item 'subs.1'\n",
       "\\item 'subs.1'\n",
       "\\item 'subs.1'\n",
       "\\item 'subs.1'\n",
       "\\item 'subs.1'\n",
       "\\item 'subs.1'\n",
       "\\item 'subs.1'\n",
       "\\item 'subs.1'\n",
       "\\item 'subs.1'\n",
       "\\item 'subs.1'\n",
       "\\item 'subs.1'\n",
       "\\item 'subs.1'\n",
       "\\item 'subs.1'\n",
       "\\item 'subs.1'\n",
       "\\end{enumerate*}\n"
      ],
      "text/markdown": [
       "1. 'subs.1'\n",
       "2. 'subs.1'\n",
       "3. 'subs.1'\n",
       "4. 'subs.1'\n",
       "5. 'subs.1'\n",
       "6. 'subs.1'\n",
       "7. 'subs.1'\n",
       "8. 'subs.1'\n",
       "9. 'subs.1'\n",
       "10. 'subs.1'\n",
       "11. 'subs.1'\n",
       "12. 'subs.1'\n",
       "13. 'subs.1'\n",
       "14. 'subs.1'\n",
       "15. 'subs.1'\n",
       "16. 'subs.1'\n",
       "17. 'subs.1'\n",
       "18. 'subs.1'\n",
       "19. 'subs.1'\n",
       "20. 'subs.1'\n",
       "\n",
       "\n"
      ],
      "text/plain": [
       " [1] \"subs.1\" \"subs.1\" \"subs.1\" \"subs.1\" \"subs.1\" \"subs.1\" \"subs.1\" \"subs.1\"\n",
       " [9] \"subs.1\" \"subs.1\" \"subs.1\" \"subs.1\" \"subs.1\" \"subs.1\" \"subs.1\" \"subs.1\"\n",
       "[17] \"subs.1\" \"subs.1\" \"subs.1\" \"subs.1\""
      ]
     },
     "metadata": {},
     "output_type": "display_data"
    }
   ],
   "source": [
    "zones"
   ]
  },
  {
   "cell_type": "code",
   "execution_count": null,
   "metadata": {
    "collapsed": true
   },
   "outputs": [],
   "source": []
  }
 ],
 "metadata": {
  "kernelspec": {
   "display_name": "R",
   "language": "R",
   "name": "ir"
  },
  "language_info": {
   "codemirror_mode": "r",
   "file_extension": ".r",
   "mimetype": "text/x-r-source",
   "name": "R",
   "pygments_lexer": "r",
   "version": "3.3.1"
  }
 },
 "nbformat": 4,
 "nbformat_minor": 1
}
