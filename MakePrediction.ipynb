{
 "cells": [
  {
   "cell_type": "markdown",
   "metadata": {},
   "source": [
    "### This file call all predicting methods on GEF2012Com and Hvaler\n",
    "Use MeasurePerformance.ipynb file to measure performance of produced prediction"
   ]
  },
  {
   "cell_type": "code",
   "execution_count": 1,
   "metadata": {
    "collapsed": false,
    "scrolled": true
   },
   "outputs": [
    {
     "name": "stderr",
     "output_type": "stream",
     "text": [
      "\n",
      "Attaching package: ‘dplyr’\n",
      "\n",
      "The following objects are masked from ‘package:stats’:\n",
      "\n",
      "    filter, lag\n",
      "\n",
      "The following objects are masked from ‘package:base’:\n",
      "\n",
      "    intersect, setdiff, setequal, union\n",
      "\n",
      "\n",
      "Attaching package: ‘lubridate’\n",
      "\n",
      "The following object is masked from ‘package:base’:\n",
      "\n",
      "    date\n",
      "\n",
      "Loading required package: zoo\n",
      "\n",
      "Attaching package: ‘zoo’\n",
      "\n",
      "The following objects are masked from ‘package:base’:\n",
      "\n",
      "    as.Date, as.Date.numeric\n",
      "\n",
      "\n",
      "Attaching package: ‘xts’\n",
      "\n",
      "The following objects are masked from ‘package:dplyr’:\n",
      "\n",
      "    first, last\n",
      "\n",
      "Loading required package: foreach\n",
      "Loading required package: iterators\n",
      "Loading required package: parallel\n"
     ]
    }
   ],
   "source": [
    "library(tidyr)\n",
    "library(dplyr)\n",
    "library(lubridate)\n",
    "library(xts)\n",
    "library(\"doParallel\")\n",
    "library(\"foreach\")\n",
    "source(\"Lib/PredictRandomForest.R\")\n",
    "source(\"Lib/PredictDSHW.R\")\n",
    "source(\"Lib/PredictSemiParametricArima.R\")\n",
    "source(\"Lib/PredictTBATS.R\")"
   ]
  },
  {
   "cell_type": "code",
   "execution_count": 2,
   "metadata": {
    "collapsed": true
   },
   "outputs": [],
   "source": [
    "#Predict for Hvaler\n",
    "HvalerTrainingFile = \"Hvaler/training_set.csv\"\n",
    "HvalerCompleteFile = \"Hvaler/imputed_complete.csv\"\n",
    "OutputDir = \"Hvaler/Predictions/\"\n",
    "HvalerClasses = c('POSIXct', rep(\"numeric\", 21))\n",
    "NCores = 8\n",
    "Zones = paste0(\"subs.\", seq(1, 20))#Only test 1 zone now\n",
    "Temperatures = c(\"T01\")\n",
    "Horizons = seq(1, 24)\n",
    "trainingDf = read.csv(HvalerTrainingFile, stringsAsFactors=FALSE, colClasses=HvalerClasses)\n",
    "completeDf = read.csv(HvalerCompleteFile, stringsAsFactors=FALSE, colClasses=HvalerClasses)\n"
   ]
  },
  {
   "cell_type": "code",
   "execution_count": null,
   "metadata": {
    "collapsed": false
   },
   "outputs": [],
   "source": [
    "#BE CAREFUL: This will take several hours!\n",
    "predictRandomForest(OutputDir, trainingDf, completeDf, Zones, Temperatures, Horizons, nDataPoints = -1, PlotResult = FALSE)\n"
   ]
  },
  {
   "cell_type": "code",
   "execution_count": null,
   "metadata": {
    "collapsed": false
   },
   "outputs": [],
   "source": [
    "#This will also take a lot of time\n",
    "registerDoParallel(NCores)\n",
    "x = foreach(Zones = Zones, .combine=c) %dopar% \n",
    "    predictDSHW(OutputDir, trainingDf, completeDf, Zones, Horizons, modifiedDSHW=FALSE, PlotResult = FALSE)\n",
    "stopImplicitCluster()"
   ]
  },
  {
   "cell_type": "code",
   "execution_count": null,
   "metadata": {
    "collapsed": false
   },
   "outputs": [],
   "source": [
    "#This will also take a lot of time\n",
    "registerDoParallel(NCores)\n",
    "x = foreach(Zones = Zones, .combine=c) %dopar% \n",
    "    predictDSHW(OutputDir, trainingDf, completeDf, Zones, Horizons, modifiedDSHW=TRUE, PlotResult = FALSE)\n",
    "stopImplicitCluster()"
   ]
  },
  {
   "cell_type": "code",
   "execution_count": null,
   "metadata": {
    "collapsed": false
   },
   "outputs": [],
   "source": [
    "#This will also take a lot of time\n",
    "registerDoParallel(NCores)\n",
    "registerDoParallel(NCores)\n",
    "x = foreach(Zones = Zones, .combine=c) %dopar% \n",
    "    predictSemiParametricArima(OutputDir, trainingDf, completeDf, Zones, Temperatures, Horizons, PlotResult = FALSE)\n",
    "stopImplicitCluster()"
   ]
  },
  {
   "cell_type": "code",
   "execution_count": null,
   "metadata": {
    "collapsed": false
   },
   "outputs": [],
   "source": [
    "#This will also take a lot of time\n",
    "registerDoParallel(NCores)\n",
    "registerDoParallel(NCores)\n",
    "x = foreach(Zones = Zones, .combine=c) %dopar% \n",
    "    predictTBATS(OutputDir, trainingDf, completeDf, Zones, Horizons, PlotResult = FALSE)\n",
    "stopImplicitCluster()"
   ]
  },
  {
   "cell_type": "code",
   "execution_count": null,
   "metadata": {
    "collapsed": false
   },
   "outputs": [],
   "source": [
    "#Predict for GEFCom2012\n",
    "GEFCom2012TrainingFile = \"GEFCom2012/training_set.csv\"\n",
    "GEFCom2012CompleteFile = \"GEFCom2012/complete.csv\"\n",
    "OutputDir = \"GEFCom2012/Predictions/\"\n",
    "GEFCom2012Classes = c('POSIXct', rep(\"numeric\", 32))\n",
    "Zones = paste0(\"zone.\", seq(1, 20))\n",
    "Temperatures = c(\"T01\",\"T02\",\"T03\",\"T04\",\"T05\",\"T06\",\"T07\",\"T08\",\"T09\",\"T10\",\"T11\")\n",
    "Horizons = seq(1, 24)\n",
    "trainingDf = read.csv(GEFCom2012TrainingFile, stringsAsFactors=FALSE, colClasses=GEFCom2012Classes)\n",
    "completeDf = read.csv(GEFCom2012CompleteFile, stringsAsFactors=FALSE, colClasses=GEFCom2012Classes)"
   ]
  },
  {
   "cell_type": "code",
   "execution_count": null,
   "metadata": {
    "collapsed": true
   },
   "outputs": [],
   "source": [
    "#This will take several hours!\n",
    "predictRandomForest(OutputDir, trainingDf, completeDf, Zones, Temperatures, Horizons, nDataPoints = -1, PlotResult = FALSE)"
   ]
  },
  {
   "cell_type": "code",
   "execution_count": null,
   "metadata": {
    "collapsed": true
   },
   "outputs": [],
   "source": [
    "registerDoParallel(NCores)\n",
    "x = foreach(Zones = Zones, .combine=c) %dopar% \n",
    "    predictDSHW(OutputDir, trainingDf, completeDf, Zones, Horizons, modifiedDSHW=FALSE, PlotResult = FALSE)\n",
    "stopImplicitCluster()"
   ]
  },
  {
   "cell_type": "code",
   "execution_count": null,
   "metadata": {
    "collapsed": true
   },
   "outputs": [],
   "source": [
    "registerDoParallel(NCores)\n",
    "x = foreach(Zones = Zones, .combine=c) %dopar% \n",
    "    predictDSHW(OutputDir, trainingDf, completeDf, Zones, Horizons, modifiedDSHW=TRUE, PlotResult = FALSE)\n",
    "stopImplicitCluster()"
   ]
  },
  {
   "cell_type": "code",
   "execution_count": null,
   "metadata": {
    "collapsed": false
   },
   "outputs": [],
   "source": [
    "registerDoParallel(NCores)\n",
    "x = foreach(Zones = Zones, .combine=c) %dopar% \n",
    "    predictSemiParametricArima(OutputDir, trainingDf, completeDf, Zones, Temperatures, Horizons, PlotResult = FALSE)\n",
    "stopImplicitCluster()"
   ]
  },
  {
   "cell_type": "code",
   "execution_count": null,
   "metadata": {
    "collapsed": false
   },
   "outputs": [],
   "source": [
    "registerDoParallel(NCores)\n",
    "x = foreach(Zones = Zones, .combine=c) %dopar% \n",
    "    predictTBATS(OutputDir, trainingDf, completeDf, Zones, Horizons, PlotResult = FALSE)\n",
    "stopImplicitCluster()"
   ]
  },
  {
   "cell_type": "code",
   "execution_count": null,
   "metadata": {
    "collapsed": false
   },
   "outputs": [],
   "source": [
    "install.packages(\"ranger\")"
   ]
  },
  {
   "cell_type": "code",
   "execution_count": null,
   "metadata": {
    "collapsed": false
   },
   "outputs": [],
   "source": [
    "install.packages(\"bbemkr\")"
   ]
  },
  {
   "cell_type": "code",
   "execution_count": null,
   "metadata": {
    "collapsed": false
   },
   "outputs": [],
   "source": [
    "install.packages(\"doParallel\")\n",
    "install.packages(\"foreach\")"
   ]
  },
  {
   "cell_type": "code",
   "execution_count": null,
   "metadata": {
    "collapsed": true
   },
   "outputs": [],
   "source": []
  }
 ],
 "metadata": {
  "kernelspec": {
   "display_name": "R",
   "language": "R",
   "name": "ir"
  },
  "language_info": {
   "codemirror_mode": "r",
   "file_extension": ".r",
   "mimetype": "text/x-r-source",
   "name": "R",
   "pygments_lexer": "r",
   "version": "3.3.1"
  }
 },
 "nbformat": 4,
 "nbformat_minor": 1
}
